{
 "cells": [
  {
   "cell_type": "code",
   "execution_count": 234,
   "id": "e686a080-3517-437b-a66c-06ab20b5aaa5",
   "metadata": {},
   "outputs": [],
   "source": [
    "using Plots"
   ]
  },
  {
   "cell_type": "code",
   "execution_count": 235,
   "id": "9a44ab78-ea2a-4ef8-9869-3f32db960206",
   "metadata": {},
   "outputs": [
    {
     "data": {
      "text/plain": [
       "rectangle (generic function with 1 method)"
      ]
     },
     "execution_count": 235,
     "metadata": {},
     "output_type": "execute_result"
    }
   ],
   "source": [
    "# define a function that returns a Plots.Shape\n",
    "rectangle(w, h, x, y) = Shape(x .+ [0,w,w,0], y .+ [0,0,h,h])"
   ]
  },
  {
   "cell_type": "code",
   "execution_count": 237,
   "id": "7b02dccd-9479-4103-b720-304655236c67",
   "metadata": {},
   "outputs": [
    {
     "data": {
      "text/plain": [
       "plot_tdd_pattern (generic function with 1 method)"
      ]
     },
     "execution_count": 237,
     "metadata": {},
     "output_type": "execute_result"
    }
   ],
   "source": [
    "function plot_tdd_pattern(period_ms, dl_slots, ul_slots)\n",
    "    total_duration_ms = 100  # Adjust the total duration as needed\n",
    "    symbols_per_slot = 10  # Adjust the number of symbols per slot as needed\n",
    "\n",
    "    dl_color = \"blue\"\n",
    "    ul_color = \"green\"\n",
    "\n",
    "    dl_slots_timeline = repeat([1; zeros(symbols_per_slot - 1)], dl_slots)\n",
    "    ul_slots_timeline = repeat([2; zeros(symbols_per_slot - 1)], ul_slots)\n",
    "\n",
    "    timeline = repeat(1:symbols_per_slot:total_duration_ms, inner=dl_slots + ul_slots); @show timeline\n",
    "    pattern = vcat(dl_slots_timeline, ul_slots_timeline)\n",
    "\n",
    "    # Create separate arrays for dl_colors and ul_colors\n",
    "    dl_colors = [dl_color for _ in 1:dl_slots]; @show dl_colors;\n",
    "    ul_colors = [ul_color for _ in 1:ul_slots]; @show ul_colors;\n",
    "\n",
    "    # Concatenate dl_colors and ul_colors\n",
    "    colors = vcat(dl_colors, \"white\", ul_colors); @show colors\n",
    "\n",
    "    plot(timeline, pattern\n",
    "        , linecolor=timeline\n",
    "        , xlabel=\"Time (ms)\"\n",
    "        , ylabel=\"Slot Type\"\n",
    "        , label=[\"DL\" \"UL\"])\n",
    "    return timeline, colors\n",
    "end"
   ]
  },
  {
   "cell_type": "code",
   "execution_count": 238,
   "id": "7b022e00-b014-4e68-a364-c128433fa0fe",
   "metadata": {},
   "outputs": [
    {
     "name": "stdout",
     "output_type": "stream",
     "text": [
      "timeline = [1, 1, 1, 1, 1, 1, 1, 1, 1, 11, 11, 11, 11, 11, 11, 11, 11, 11, 21, 21, 21, 21, 21, 21, 21, 21, 21, 31, 31, 31, 31, 31, 31, 31, 31, 31, 41, 41, 41, 41, 41, 41, 41, 41, 41, 51, 51, 51, 51, 51, 51, 51, 51, 51, 61, 61, 61, 61, 61, 61, 61, 61, 61, 71, 71, 71, 71, 71, 71, 71, 71, 71, 81, 81, 81, 81, 81, 81, 81, 81, 81, 91, 91, 91, 91, 91, 91, 91, 91, 91]\n",
      "dl_colors = [\"blue\", \"blue\"]\n",
      "ul_colors = [\"green\", \"green\", \"green\", \"green\", \"green\", \"green\", \"green\"]\n",
      "colors = [\"blue\", \"blue\", \"white\", \"green\", \"green\", \"green\", \"green\", \"green\", \"green\", \"green\"]\n"
     ]
    },
    {
     "data": {
      "text/plain": [
       "([1, 1, 1, 1, 1, 1, 1, 1, 1, 11  …  81, 91, 91, 91, 91, 91, 91, 91, 91, 91], [\"blue\", \"blue\", \"white\", \"green\", \"green\", \"green\", \"green\", \"green\", \"green\", \"green\"])"
      ]
     },
     "execution_count": 238,
     "metadata": {},
     "output_type": "execute_result"
    }
   ],
   "source": [
    "# Configuration parameters\n",
    "tdd_period_ms = 5\n",
    "dl_slots = 2\n",
    "ul_slots = 7\n",
    "\n",
    "# Plot TDD pattern\n",
    "# dl_ul_plot = \n",
    "timeline, colors = plot_tdd_pattern(tdd_period_ms, dl_slots, ul_slots)\n",
    "\n",
    "# Save the figure to an image file\n",
    "# savefig(dl_ul_plot, \"dl_ul_plot.png\")"
   ]
  },
  {
   "cell_type": "code",
   "execution_count": 239,
   "id": "75f185ba-75fd-4145-bbea-4ea00e010b97",
   "metadata": {},
   "outputs": [
    {
     "name": "stdout",
     "output_type": "stream",
     "text": [
      "(X, size(X), typeof(X)) = ([1, 11, 21, 31, 41, 51, 61, 71, 81, 91], (10,), Vector{Int64})\n",
      "i = [3]\n"
     ]
    }
   ],
   "source": [
    "X = unique(timeline); @show X, size(X), typeof(X) \n",
    "Xₗ = colors\n",
    "\n",
    "Wₛₜ = tdd_period_ms # 5 # ms\n",
    "Hₛₜ = 1 # standard height\n",
    "\n",
    "p = \n",
    "plot(0:1,0:1, legend=:false, yaxis=:false, opacity=.8, xlabel=\"Time (ms)\")\n",
    "\n",
    "for i in 1:length(X)\n",
    "    dl = rectangle(Wₛₜ,Hₛₜ,X[i]//2,0); p = plot!(dl, color=Xₗ[i])\n",
    "end\n",
    "\n",
    "i = findall(x->x==\"white\", Xₗ); @show i\n",
    "dl1 = rectangle(Wₛₜ//2,Hₛₜ,X[i]//2,0); p = plot!(dl1, color=\"white\")\n",
    "savefig(p,\"images/slots.png\");"
   ]
  },
  {
   "cell_type": "markdown",
   "id": "41907167-8649-4a8a-88ae-80216b065cd1",
   "metadata": {},
   "source": [
    "<img src=images/slots.png width='' height='' > </img>"
   ]
  },
  {
   "cell_type": "code",
   "execution_count": 240,
   "id": "f3edd670-9708-4f17-a49e-5ae392a08b7d",
   "metadata": {},
   "outputs": [
    {
     "data": {
      "text/plain": [
       "calculate_frame_duration (generic function with 1 method)"
      ]
     },
     "execution_count": 240,
     "metadata": {},
     "output_type": "execute_result"
    }
   ],
   "source": [
    "function calculate_frame_duration(Δf, dl_slots, ul_slots)\n",
    "    slot_duration = 1 / Δf\n",
    "    slots_per_frame = dl_slots + ul_slots\n",
    "    frame_duration_seconds = slot_duration * slots_per_frame\n",
    "    frame_duration_milliseconds = frame_duration_seconds * 1e3  # Convert to milliseconds\n",
    "    return frame_duration_milliseconds\n",
    "end"
   ]
  },
  {
   "cell_type": "code",
   "execution_count": 241,
   "id": "2a0fd6e4-0149-4d28-b379-94989837eaf9",
   "metadata": {},
   "outputs": [
    {
     "name": "stdout",
     "output_type": "stream",
     "text": [
      "Frame Duration: 0.30000000000000004 milliseconds\n"
     ]
    }
   ],
   "source": [
    "# Example with 30 kHz subcarrier spacing\n",
    "Δf = 30e3\n",
    "dl_slots = 7\n",
    "ul_slots = 2\n",
    "\n",
    "frame_duration_ms = calculate_frame_duration(Δf, dl_slots, ul_slots)\n",
    "println(\"Frame Duration: $frame_duration_ms milliseconds\")"
   ]
  },
  {
   "cell_type": "code",
   "execution_count": 242,
   "id": "defdbb36-adfe-4071-a37c-afd89c9e8769",
   "metadata": {},
   "outputs": [],
   "source": [
    "# Cell 1 parameters\n",
    "band1 = \"n78\"\n",
    "arfcn1 = 641280\n",
    "bandwidth1 = 40\n",
    "subcarrier_spacing1 = 30\n",
    "\n",
    "# Cell 2 parameters\n",
    "band2 = \"n48\"\n",
    "arfcn2 = 643000\n",
    "bandwidth2 = 40\n",
    "subcarrier_spacing2 = 30\n",
    "\n",
    "# Frequency axis\n",
    "frequencies = [arfcn1, arfcn2]\n",
    "bandwidths = [bandwidth1, bandwidth2]\n",
    "\n",
    "# Plotting cells on the frequency axis\n",
    "p = plot(frequencies\n",
    "    , zeros(length(frequencies))\n",
    "    , seriestype=:scatter\n",
    "    , label=\"\"\n",
    "    , xlabel=\"Frequency (MHz)\"\n",
    "    , ylabel=\"Cell\"\n",
    "    , title=\"Cell Frequencies\"\n",
    "    , size=(800, 600)\n",
    ")\n",
    "\n",
    "# Add cell information to the plot\n",
    "for i in 1:length(frequencies)\n",
    "    p = annotate!([(frequencies[i]-(i == 2 ? 500 : 0), 0.5, text(\"Cell $i\\nBand: $(getproperty(Main, Symbol(\"band$i\")))\\nBandwidth: $(getproperty(Main, Symbol(\"bandwidth$i\"))) MHz\", :left))])\n",
    "    if i < length(frequencies)\n",
    "        p = plot!([(frequencies[i] + frequencies[i+1]) / 2, (frequencies[i] + frequencies[i+1]) / 2], [-0.5, 0.5], label=\"\", linestyle=:dash, color=:black)\n",
    "    end\n",
    "end\n",
    "\n",
    "# Show the plot\n",
    "p = plot!()\n",
    "# display(p)\n",
    "savefig(p,\"images/two_cell_freq_axis.png\");"
   ]
  },
  {
   "cell_type": "markdown",
   "id": "c4be974a-684b-4fc7-8850-571f715b3156",
   "metadata": {},
   "source": [
    "<img src=images/two_cell_freq_axis.png width='' height='' > </img>"
   ]
  },
  {
   "cell_type": "code",
   "execution_count": 232,
   "id": "8cae850b-8431-4fc6-b811-a1245030b481",
   "metadata": {},
   "outputs": [],
   "source": [
    "using Latexify"
   ]
  },
  {
   "cell_type": "code",
   "execution_count": 243,
   "id": "574b4e10-2b46-411e-b270-b49a0675f4fc",
   "metadata": {},
   "outputs": [
    {
     "data": {
      "text/plain": [
       "plot_5g_time_frame (generic function with 2 methods)"
      ]
     },
     "execution_count": 243,
     "metadata": {},
     "output_type": "execute_result"
    }
   ],
   "source": [
    "function plot_5g_time_frame(subframes, total_duration_ms, subframe_duration_ms)\n",
    "\n",
    "    subframe_start_times = 0:subframe_duration_ms:total_duration_ms\n",
    "    subframe_end_times = subframe_start_times .+ subframe_duration_ms\n",
    "\n",
    "    p₁ = plot(subframe_start_times, zeros(length(subframe_start_times)), seriestype=:scatter, label=\"\", xlabel=\"Time (ms)\", ylabel=\"Subframe\", title=\"5G Time Frame\", size=(600, 200))\n",
    "\n",
    "    for i in 1:length(subframe_start_times)\n",
    "        p₁= annotate!([(subframe_start_times[i] + subframe_end_times[i] / 100, 0.40, latexify(\"S_F$i\"))])\n",
    "        if i < length(subframe_start_times)\n",
    "            p₁ = plot!([(subframe_start_times[i] + subframe_end_times[i]) / 2, (subframe_start_times[i] + subframe_end_times[i]) / 2], [-0.5, 0.5], label=\"\", linestyle=:dash, color=:black)\n",
    "        end\n",
    "    end\n",
    "\n",
    "    # Show the plot\n",
    "    p₁ = plot!()\n",
    "    # display(p₁)\n",
    "    savefig(p₁,\"images/5g_time_frame.png\");\n",
    "end"
   ]
  },
  {
   "cell_type": "code",
   "execution_count": 244,
   "id": "c13673cc-6280-42a6-90fc-6bf510562add",
   "metadata": {},
   "outputs": [
    {
     "data": {
      "text/plain": [
       "\"/Users/valiha/Developer/mobsys/lab1/images/5g_time_frame.png\""
      ]
     },
     "execution_count": 244,
     "metadata": {},
     "output_type": "execute_result"
    }
   ],
   "source": [
    "subframes = 10\n",
    "total_duration_ms = 10  # Total duration of the time frame\n",
    "subframe_duration_ms = 1  # Duration of each subframe\n",
    "\n",
    "# Example: Plot a 5G time frame with 10 subframes\n",
    "plot_5g_time_frame(subframes, total_duration_ms, subframe_duration_ms)"
   ]
  },
  {
   "cell_type": "markdown",
   "id": "1ff7c62f-7e54-4297-9d5c-95d933447e40",
   "metadata": {},
   "source": [
    "<img src=images/5g_time_frame.png width='' height='' > </img>"
   ]
  },
  {
   "cell_type": "code",
   "execution_count": 47,
   "id": "45d2823d-c566-4d61-b599-2b62ae49d1ea",
   "metadata": {},
   "outputs": [
    {
     "name": "stdout",
     "output_type": "stream",
     "text": [
      "round(T_s; digits = 4) = 0.0001\n",
      "round(T_slot; digits = 4) = 0.0009\n",
      "round(T_frame; digits = 3) = 0.009\n",
      "Symbol Duration: 6.666666666666667e-5 seconds\n",
      "Slot Duration: 0.0009333333333333333 seconds\n",
      "Frame Duration: 0.009333333333333332 seconds\n"
     ]
    }
   ],
   "source": [
    "function calculate_numerology(Δf)\n",
    "    T_s = 1 / Δf  # Symbol duration\n",
    "    T_slot = 14 * T_s  # Slot duration (considering 14 symbols per slot)\n",
    "    T_frame = 10 * T_slot  # Frame duration (considering 10 slots per frame)\n",
    "\n",
    "    return T_s, T_slot, T_frame\n",
    "end\n",
    "\n",
    "# Example usage\n",
    "Δf = 15e3  # Subcarrier spacing in Hertz (15 kHz)\n",
    "T_s, T_slot, T_frame = calculate_numerology(Δf)\n",
    "\n",
    "@show round(T_s; digits = 4)\n",
    "@show round(T_slot; digits = 4)\n",
    "@show round(T_frame; digits = 3)\n",
    "println(\"Symbol Duration: $T_s seconds\")\n",
    "println(\"Slot Duration: $T_slot seconds\")\n",
    "println(\"Frame Duration: $T_frame seconds\")\n"
   ]
  },
  {
   "cell_type": "code",
   "execution_count": null,
   "id": "0d553481-f007-4c18-9909-75b8af390001",
   "metadata": {},
   "outputs": [],
   "source": []
  },
  {
   "cell_type": "code",
   "execution_count": null,
   "id": "68e768ff-d630-431d-84a9-03b13119b34d",
   "metadata": {},
   "outputs": [],
   "source": []
  }
 ],
 "metadata": {
  "kernelspec": {
   "display_name": "Julia 1.9.3",
   "language": "julia",
   "name": "julia-1.9"
  },
  "language_info": {
   "file_extension": ".jl",
   "mimetype": "application/julia",
   "name": "julia",
   "version": "1.9.4"
  }
 },
 "nbformat": 4,
 "nbformat_minor": 5
}
