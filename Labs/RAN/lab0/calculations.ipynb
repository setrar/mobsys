{
 "cells": [
  {
   "cell_type": "code",
   "execution_count": 31,
   "id": "3b5837ec-c8ea-4eb7-aa66-e27987f91cf0",
   "metadata": {},
   "outputs": [],
   "source": [
    "using Plots"
   ]
  },
  {
   "cell_type": "code",
   "execution_count": 32,
   "id": "9b60bce4-551e-4278-a0fd-363b7c0cdb87",
   "metadata": {},
   "outputs": [
    {
     "data": {
      "text/plain": [
       "1:4"
      ]
     },
     "execution_count": 32,
     "metadata": {},
     "output_type": "execute_result"
    }
   ],
   "source": [
    "# Results for rtt64\n",
    "rtt64_stats = Dict(:min => 14.407, :avg => 18.484, :max => 25.849, :mdev => 3.554)\n",
    "\n",
    "# Results for rtt768\n",
    "rtt768_stats = Dict(:min => 21.507, :avg => 27.030, :max => 36.500, :mdev => 4.850)\n",
    "\n",
    "# Extracting common keys\n",
    "common_keys = intersect(keys(rtt64_stats), keys(rtt768_stats))\n",
    "\n",
    "# Convert common_keys to an array\n",
    "common_keys_arr = collect(common_keys)\n",
    "\n",
    "# Extracting values for common keys\n",
    "rtt64_values = [rtt64_stats[key] for key in common_keys_arr]\n",
    "rtt768_values = [rtt768_stats[key] for key in common_keys_arr]\n",
    "\n",
    "# Creating an index array\n",
    "index_arr = 1:length(common_keys_arr)"
   ]
  },
  {
   "cell_type": "code",
   "execution_count": 42,
   "id": "d7078a47-30fe-41c0-88d4-ccac795f717d",
   "metadata": {},
   "outputs": [],
   "source": [
    "# Plotting the bar chart with indexing\n",
    "bar_plot = \n",
    "bar(index_arr, [rtt64_values, rtt768_values], label=\"mixing colors: Blue 64 , Red 768\", xlabel=\"Statistics\", ylabel=\"Values (ms)\", title=\"Comparison of rtt64 and rtt768 Statistics\", legend=:topleft, xticks=(index_arr, common_keys_arr), color=[:blue :red], alpha=0.7)\n",
    "savefig(bar_plot,\"images/bar_plot_rtt_64_768.png\");"
   ]
  },
  {
   "cell_type": "markdown",
   "id": "f3a2eda8-71bf-40b4-b8fd-db7eee1c5b9f",
   "metadata": {},
   "source": [
    "<img src=images/bar_plot_rtt_64_768.png width='' height='' > </img>"
   ]
  },
  {
   "cell_type": "code",
   "execution_count": 3,
   "id": "8b4fe642-c432-49b7-be3f-c05ad873537f",
   "metadata": {},
   "outputs": [
    {
     "name": "stderr",
     "output_type": "stream",
     "text": [
      "\u001b[33m\u001b[1m┌ \u001b[22m\u001b[39m\u001b[33m\u001b[1mWarning: \u001b[22m\u001b[39mIndices Base.OneTo(7) of attribute `linecolor` does not match data indices 1:90.\n",
      "\u001b[33m\u001b[1m└ \u001b[22m\u001b[39m\u001b[90m@ Plots ~/.julia/packages/Plots/sxUvK/src/utils.jl:141\u001b[39m\n"
     ]
    },
    {
     "data": {
      "text/plain": [
       "\"/Users/valiha/Developer/mobsys/lab0/images/dl_ul_plot.png\""
      ]
     },
     "execution_count": 3,
     "metadata": {},
     "output_type": "execute_result"
    }
   ],
   "source": [
    "using Plots\n",
    "\n",
    "function plot_tdd_pattern(period_ms, dl_slots, ul_slots)\n",
    "    total_duration_ms = 100  # Adjust the total duration as needed\n",
    "    symbols_per_slot = 10  # Adjust the number of symbols per slot as needed\n",
    "\n",
    "    dl_color = \"blue\"\n",
    "    ul_color = \"green\"\n",
    "\n",
    "    dl_slots_timeline = repeat([1; zeros(symbols_per_slot - 1)], dl_slots)\n",
    "    ul_slots_timeline = repeat([2; zeros(symbols_per_slot - 1)], ul_slots)\n",
    "\n",
    "    timeline = repeat(1:symbols_per_slot:total_duration_ms, inner=dl_slots + ul_slots)\n",
    "    pattern = vcat(dl_slots_timeline, ul_slots_timeline)\n",
    "\n",
    "    dl_colors = [dl_color for _ in 1:dl_slots-1]\n",
    "    ul_colors = [ul_color for _ in 1:ul_slots-1]\n",
    "    colors = vcat(dl_colors, ul_colors)\n",
    "\n",
    "    plot(timeline, pattern\n",
    "        , linecolor=colors\n",
    "        , xlabel=\"Time (ms)\", ylabel=\"Slot Type\", label=[\"DL\" \"UL\"])\n",
    "end\n",
    "\n",
    "# Configuration parameters\n",
    "tdd_period_ms = 5\n",
    "dl_slots = 7\n",
    "ul_slots = 2\n",
    "\n",
    "# Plot TDD pattern\n",
    "dl_ul_plot =\n",
    "plot_tdd_pattern(tdd_period_ms, dl_slots, ul_slots)\n",
    "savefig(dl_ul_plot,\"images/dl_ul_plot.png\")"
   ]
  },
  {
   "cell_type": "markdown",
   "id": "11881a1e-8127-4331-98bb-e6c8c2b3d4b6",
   "metadata": {},
   "source": [
    "<img src=images/dl_ul_plot.png width='' height='' > </img>"
   ]
  },
  {
   "cell_type": "code",
   "execution_count": null,
   "id": "88110019-6c56-4b26-bbb1-e399211585f0",
   "metadata": {},
   "outputs": [],
   "source": []
  }
 ],
 "metadata": {
  "kernelspec": {
   "display_name": "Julia 1.9.3",
   "language": "julia",
   "name": "julia-1.9"
  },
  "language_info": {
   "file_extension": ".jl",
   "mimetype": "application/julia",
   "name": "julia",
   "version": "1.9.4"
  }
 },
 "nbformat": 4,
 "nbformat_minor": 5
}
