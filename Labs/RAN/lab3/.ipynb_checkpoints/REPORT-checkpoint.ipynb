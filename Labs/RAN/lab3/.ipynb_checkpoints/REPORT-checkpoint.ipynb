{
 "cells": [
  {
   "cell_type": "markdown",
   "id": "47648d81-d3fb-4bc3-b150-47f8fc931a64",
   "metadata": {},
   "source": [
    "# &#x1F9EA; **Lab &#x0033; ** "
   ]
  },
  {
   "cell_type": "markdown",
   "id": "b0f18e64-e6a7-4d89-bf6d-0badeda74383",
   "metadata": {},
   "source": [
    "Open RAN Advanced"
   ]
  },
  {
   "cell_type": "markdown",
   "id": "c4b9fd93-7257-4dce-9ba5-b414ec37ea71",
   "metadata": {},
   "source": [
    "###  &#x0033;  xApp Lab"
   ]
  },
  {
   "cell_type": "markdown",
   "id": "139aaa79-81b1-49c1-8fca-79305964b24f",
   "metadata": {},
   "source": [
    "This experiment is to deploy a 5G Standalone (SA) network using OpenAirInterface (OAI) 3 RF Simulator gNB and OAI minimal 5GC, using the F1 Split architecture. We also deploy FlexRIC as the Near-RT RIC with a monitoring xApp."
   ]
  },
  {
   "cell_type": "markdown",
   "id": "235efee2-6865-4fc2-9e66-6ceda70bafaa",
   "metadata": {},
   "source": [
    "### &#x0033;.&#x0032; CSV Extraction"
   ]
  },
  {
   "cell_type": "markdown",
   "id": "545ae8f2-87f8-44e5-b318-6c516cc1aa88",
   "metadata": {},
   "source": [
    "#### &#x1F5E3; Questions"
   ]
  },
  {
   "cell_type": "markdown",
   "id": "1faf3808-ee7c-4f45-bfaf-2efc8383fc96",
   "metadata": {},
   "source": [
    "#### &#x0031;. Explain the meaning of each column in the CSV file based on the SQL query."
   ]
  },
  {
   "cell_type": "markdown",
   "id": "c2c8f06a-bbfb-4836-bade-27ce24980a3e",
   "metadata": {},
   "source": [
    "```mysql\n",
    "SELECT tstamp, ngran_node, e2node_nb_id, frame, slot, dl_aggr_tbs, dl_aggr_prb, rnti, dl_mcs1 from MAC_UE ORDER BY \\\n",
    "       tstamp DESC LIMIT 12000 INTO OUTFILE '/etc/t9s/athena/wmi/mysql/private/test1.csv' FIELDS TERMINATED BY ',' \\\n",
    "       LINES TERMINATED BY '\\n';\n",
    "```"
   ]
  },
  {
   "cell_type": "markdown",
   "id": "950720ff-5170-4628-9eb2-cfc6bb5fdf51",
   "metadata": {},
   "source": [
    "These columns reference a set of parameters or fields from a MAC (Medium Access Control) message related to a User Equipment (UE) in a wireless communication system. These parameters typically represents:\n",
    "\n",
    "1. `tstamp`: Timestamp indicating the time at which the MAC message was recorded or processed.\n",
    "\n",
    "2. `ngran_node`: Identifier for the Next-Generation Node (NG-RAN Node) in the wireless network. This could represent a base station or another network node.\n",
    "\n",
    "3. `e2node_nb_id`: E2 Node (E2NB) identifier. The E2 interface is part of the 5G architecture and is used for communication between gNBs (Next-Generation NodeBs).\n",
    "\n",
    "4. `frame`: Frame number. In a wireless communication system, communication is organized into frames, each divided into slots.\n",
    "\n",
    "5. `slot`: Slot number. Slots are subdivisions of a frame and are used to transmit data.\n",
    "\n",
    "6. `dl_aggr_tbs`: Downlink aggregated Transport Block Size. This parameter may indicate the size of the aggregated transport blocks in the downlink (from the base station to the UE).\n",
    "\n",
    "7. `dl_aggr_prb`: Downlink aggregated Physical Resource Blocks. This may represent the number of aggregated physical resource blocks in the downlink.\n",
    "\n",
    "8. `rnti`: Radio Network Temporary Identifier. This is an identifier used to uniquely identify UEs within a cell.\n",
    "\n",
    "9. `dl_mcs1`: Downlink Modulation and Coding Scheme. It represents the modulation and coding scheme used for downlink transmission.\n",
    "\n",
    "These parameters are commonly found in the context of MAC messages exchanged between the UE and the base station (gNB in 5G). The information is crucial for managing radio resources, scheduling transmissions, and ensuring effective communication between the network and the UE."
   ]
  },
  {
   "cell_type": "code",
   "execution_count": 45,
   "id": "3c35af8a-382b-457e-a22d-78b6665f0da5",
   "metadata": {},
   "outputs": [],
   "source": [
    "using CSV\n",
    "using DataFrames"
   ]
  },
  {
   "cell_type": "code",
   "execution_count": 46,
   "id": "3edb9d71-fc83-4fe3-91b6-cf391e36e70a",
   "metadata": {},
   "outputs": [],
   "source": [
    "header = (\n",
    "      [\"tstamp\", \"ngran_node\", \"e2node_nb_id\", \"frame\", \"slot\", \"dl_aggr_tbs\", \"dl_aggr_prb\", \"rnti\", \"dl_mcs1\", \"Date\"]\n",
    "    , [\"[epoch]\", \"[Int64]\", \"[Int64]\", \"[m/s]\", \"[n]\", \"[m]\", \"[m]\", \"[n]\", \"[n]\", \"[yyyy-mm-ddThh:mm:ss.xxx]\"]\n",
    ");"
   ]
  },
  {
   "cell_type": "code",
   "execution_count": 47,
   "id": "1c68c04e-bba1-4193-93d6-c90524072b26",
   "metadata": {},
   "outputs": [],
   "source": [
    "df = DataFrame(CSV.File(\"data/test1.csv\"));\n",
    "# Set the header for the DataFrame\n",
    "# DataFrames.rename!(df, header); "
   ]
  },
  {
   "cell_type": "code",
   "execution_count": 48,
   "id": "a4e39ae8-a86c-4010-aee2-c2f489580f15",
   "metadata": {},
   "outputs": [],
   "source": [
    "using PrettyTables"
   ]
  },
  {
   "cell_type": "code",
   "execution_count": 49,
   "id": "daa85f0d-25e8-40e0-9441-0e5cea219ed5",
   "metadata": {},
   "outputs": [],
   "source": [
    "using Dates"
   ]
  },
  {
   "cell_type": "code",
   "execution_count": 50,
   "id": "65e0e197-01be-486d-928d-74290d45d2c5",
   "metadata": {},
   "outputs": [],
   "source": [
    "df.Date = map(unix2datetime, df[!,1]/1e6);"
   ]
  },
  {
   "cell_type": "code",
   "execution_count": 52,
   "id": "f07e4bf5-bc28-45e3-a452-2f732aae57c4",
   "metadata": {},
   "outputs": [
    {
     "data": {
      "text/html": [
       "<!DOCTYPE html>\n",
       "<html>\n",
       "<meta charset=\"UTF-8\">\n",
       "<head>\n",
       "<style>\n",
       "  table, td, th {\n",
       "      border-collapse: collapse;\n",
       "      font-family: sans-serif;\n",
       "  }\n",
       "\n",
       "  td, th {\n",
       "      border-bottom: 0;\n",
       "      padding: 4px\n",
       "  }\n",
       "\n",
       "  tr:nth-child(odd) {\n",
       "      background: #eee;\n",
       "  }\n",
       "\n",
       "  tr:nth-child(even) {\n",
       "      background: #fff;\n",
       "  }\n",
       "\n",
       "  tr.header {\n",
       "      background: navy !important;\n",
       "      color: white;\n",
       "      font-weight: bold;\n",
       "  }\n",
       "\n",
       "  tr.subheader {\n",
       "      background: lightgray !important;\n",
       "      color: black;\n",
       "  }\n",
       "\n",
       "  tr.headerLastRow {\n",
       "      border-bottom: 2px solid black;\n",
       "  }\n",
       "\n",
       "  th.rowNumber, td.rowNumber {\n",
       "      text-align: right;\n",
       "  }\n",
       "\n",
       "</style>\n",
       "</head>\n",
       "<body>\n",
       "<table>\n",
       "  <thead>\n",
       "    <tr class = \"header\">\n",
       "      <th style = \"text-align: right;\">tstamp</th>\n",
       "      <th style = \"text-align: right;\">ngran_node</th>\n",
       "      <th style = \"text-align: right;\">e2node_nb_id</th>\n",
       "      <th style = \"text-align: right;\">frame</th>\n",
       "      <th style = \"text-align: right;\">slot</th>\n",
       "      <th style = \"text-align: right;\">dl_aggr_tbs</th>\n",
       "      <th style = \"text-align: right;\">dl_aggr_prb</th>\n",
       "      <th style = \"text-align: right;\">rnti</th>\n",
       "      <th style = \"text-align: right;\">dl_mcs1</th>\n",
       "      <th style = \"text-align: right;\">Date</th>\n",
       "    </tr>\n",
       "    <tr class = \"subheader headerLastRow\">\n",
       "      <th style = \"text-align: right;\">[epoch]</th>\n",
       "      <th style = \"text-align: right;\">[Int64]</th>\n",
       "      <th style = \"text-align: right;\">[Int64]</th>\n",
       "      <th style = \"text-align: right;\">[m/s]</th>\n",
       "      <th style = \"text-align: right;\">[n]</th>\n",
       "      <th style = \"text-align: right;\">[m]</th>\n",
       "      <th style = \"text-align: right;\">[m]</th>\n",
       "      <th style = \"text-align: right;\">[n]</th>\n",
       "      <th style = \"text-align: right;\">[n]</th>\n",
       "      <th style = \"text-align: right;\">[yyyy-mm-ddThh:mm:ss.xxx]</th>\n",
       "    </tr>\n",
       "  </thead>\n",
       "  <tbody>\n",
       "    <tr>\n",
       "      <td style = \"text-align: right;\">1701873318576180</td>\n",
       "      <td style = \"text-align: right;\">7</td>\n",
       "      <td style = \"text-align: right;\">244022588</td>\n",
       "      <td style = \"text-align: right;\">97</td>\n",
       "      <td style = \"text-align: right;\">8</td>\n",
       "      <td style = \"text-align: right;\">754856</td>\n",
       "      <td style = \"text-align: right;\">30711</td>\n",
       "      <td style = \"text-align: right;\">18422</td>\n",
       "      <td style = \"text-align: right;\">9</td>\n",
       "      <td style = \"text-align: right;\">2023-12-06T14:35:18.576</td>\n",
       "    </tr>\n",
       "    <tr>\n",
       "      <td style = \"text-align: right;\">1701873318476221</td>\n",
       "      <td style = \"text-align: right;\">7</td>\n",
       "      <td style = \"text-align: right;\">244022588</td>\n",
       "      <td style = \"text-align: right;\">90</td>\n",
       "      <td style = \"text-align: right;\">12</td>\n",
       "      <td style = \"text-align: right;\">325484963</td>\n",
       "      <td style = \"text-align: right;\">3786730</td>\n",
       "      <td style = \"text-align: right;\">40635</td>\n",
       "      <td style = \"text-align: right;\">9</td>\n",
       "      <td style = \"text-align: right;\">2023-12-06T14:35:18.476</td>\n",
       "    </tr>\n",
       "    <tr>\n",
       "      <td style = \"text-align: right;\">1701873318476221</td>\n",
       "      <td style = \"text-align: right;\">7</td>\n",
       "      <td style = \"text-align: right;\">244022588</td>\n",
       "      <td style = \"text-align: right;\">90</td>\n",
       "      <td style = \"text-align: right;\">12</td>\n",
       "      <td style = \"text-align: right;\">754733</td>\n",
       "      <td style = \"text-align: right;\">30706</td>\n",
       "      <td style = \"text-align: right;\">18422</td>\n",
       "      <td style = \"text-align: right;\">9</td>\n",
       "      <td style = \"text-align: right;\">2023-12-06T14:35:18.476</td>\n",
       "    </tr>\n",
       "  </tbody>\n",
       "</table>\n",
       "</body>\n",
       "</html>\n"
      ]
     },
     "metadata": {},
     "output_type": "display_data"
    }
   ],
   "source": [
    "pretty_table(first(df, 3), backend=Val(:html), header = header, standalone=true)"
   ]
  },
  {
   "cell_type": "markdown",
   "id": "d5c7b258-b321-4921-a3c6-f8421f305293",
   "metadata": {},
   "source": [
    "#### &#x0032;. How many slots and frames are there in the CSV file?"
   ]
  },
  {
   "cell_type": "markdown",
   "id": "56a2c0d8-a1b1-454f-a524-9cba88dac929",
   "metadata": {},
   "source": [
    "### &#x0034;. Which UE (based on the RNTI) is the target of the throughput test?"
   ]
  },
  {
   "cell_type": "code",
   "execution_count": 53,
   "id": "e7a5a0b1-3de7-4cf8-b141-13192e34c9dc",
   "metadata": {},
   "outputs": [],
   "source": [
    "# Add columns for TBS and PRB changes\n",
    "df[!, :Δₜᵦₛ] .= [diff([NaN; df[:, 6]])...]  # Assuming dl_aggr_tbs is the TBS column\n",
    "df[!, :Δₚᵣᵦ] .= [diff([NaN; df[:, 7]])...];  # Assuming dl_aggr_prb is the PRB column"
   ]
  },
  {
   "cell_type": "code",
   "execution_count": 61,
   "id": "d77ebafb-533f-458a-b012-975c0a0d739d",
   "metadata": {},
   "outputs": [
    {
     "data": {
      "text/html": [
       "<!DOCTYPE html>\n",
       "<html>\n",
       "<meta charset=\"UTF-8\">\n",
       "<head>\n",
       "<style>\n",
       "  table, td, th {\n",
       "      border-collapse: collapse;\n",
       "      font-family: sans-serif;\n",
       "  }\n",
       "\n",
       "  td, th {\n",
       "      border-bottom: 0;\n",
       "      padding: 4px\n",
       "  }\n",
       "\n",
       "  tr:nth-child(odd) {\n",
       "      background: #eee;\n",
       "  }\n",
       "\n",
       "  tr:nth-child(even) {\n",
       "      background: #fff;\n",
       "  }\n",
       "\n",
       "  tr.header {\n",
       "      background: navy !important;\n",
       "      color: white;\n",
       "      font-weight: bold;\n",
       "  }\n",
       "\n",
       "  tr.subheader {\n",
       "      background: lightgray !important;\n",
       "      color: black;\n",
       "  }\n",
       "\n",
       "  tr.headerLastRow {\n",
       "      border-bottom: 2px solid black;\n",
       "  }\n",
       "\n",
       "  th.rowNumber, td.rowNumber {\n",
       "      text-align: right;\n",
       "  }\n",
       "\n",
       "</style>\n",
       "</head>\n",
       "<body>\n",
       "<table>\n",
       "  <thead>\n",
       "    <tr class = \"header\">\n",
       "      <th style = \"text-align: right;\">Date</th>\n",
       "      <th style = \"text-align: right;\">Δₜᵦₛ</th>\n",
       "      <th style = \"text-align: right;\">Δₚᵣᵦ</th>\n",
       "    </tr>\n",
       "    <tr class = \"subheader headerLastRow\">\n",
       "      <th style = \"text-align: right;\">DateTime</th>\n",
       "      <th style = \"text-align: right;\">Float64</th>\n",
       "      <th style = \"text-align: right;\">Float64</th>\n",
       "    </tr>\n",
       "  </thead>\n",
       "  <tbody>\n",
       "    <tr>\n",
       "      <td style = \"text-align: right;\">2023-12-06T14:35:18.576</td>\n",
       "      <td style = \"text-align: right;\">NaN</td>\n",
       "      <td style = \"text-align: right;\">NaN</td>\n",
       "    </tr>\n",
       "    <tr>\n",
       "      <td style = \"text-align: right;\">2023-12-06T14:35:18.476</td>\n",
       "      <td style = \"text-align: right;\">3.2473e8</td>\n",
       "      <td style = \"text-align: right;\">3.75602e6</td>\n",
       "    </tr>\n",
       "    <tr>\n",
       "      <td style = \"text-align: right;\">2023-12-06T14:35:18.476</td>\n",
       "      <td style = \"text-align: right;\">-3.2473e8</td>\n",
       "      <td style = \"text-align: right;\">-3.75602e6</td>\n",
       "    </tr>\n",
       "  </tbody>\n",
       "</table>\n",
       "</body>\n",
       "</html>\n"
      ]
     },
     "metadata": {},
     "output_type": "display_data"
    }
   ],
   "source": [
    "# selected_df = select(df, [:Date,Cols[6], :Δₜᵦₛ, :dl_aggr_prb, :Δₚᵣᵦ])\n",
    "selected_df = select(df, [:Date,:Δₜᵦₛ, :Δₚᵣᵦ])\n",
    "pretty_table(first(selected_df, 3), backend=Val(:html), standalone=true)"
   ]
  },
  {
   "cell_type": "markdown",
   "id": "bbfbc87e-7a30-412c-98c8-d586904aa164",
   "metadata": {},
   "source": [
    "### &#x0034;. MCS Measurement"
   ]
  },
  {
   "cell_type": "markdown",
   "id": "cde1950e-7dd9-4655-9a8b-a412bd21cd4c",
   "metadata": {},
   "source": [
    "#### &#x0034;.&#x0031; Testing"
   ]
  },
  {
   "cell_type": "markdown",
   "id": "fbe3c238-6f30-431b-a067-dd0a65dcc1f8",
   "metadata": {},
   "source": [
    "#### &#x1F5E3; Questions"
   ]
  },
  {
   "cell_type": "markdown",
   "id": "be1eb694-7d48-4e1d-a205-f720c6dfcc60",
   "metadata": {},
   "source": [
    "#### 1. Explain how the MCS value affects the TCP throughput."
   ]
  },
  {
   "cell_type": "code",
   "execution_count": 62,
   "id": "66110d9f-3665-4d3d-b076-1e0f0a118214",
   "metadata": {},
   "outputs": [],
   "source": [
    "# in  Mbits/sec \n",
    "mcs = DataFrame(CSV.File(\"data/mcs.csv\"));"
   ]
  },
  {
   "cell_type": "code",
   "execution_count": 63,
   "id": "c8f4d5b8-33ea-4d0d-9d05-5094274e4afe",
   "metadata": {},
   "outputs": [
    {
     "data": {
      "text/html": [
       "<!DOCTYPE html>\n",
       "<html>\n",
       "<meta charset=\"UTF-8\">\n",
       "<head>\n",
       "<style>\n",
       "  table, td, th {\n",
       "      border-collapse: collapse;\n",
       "      font-family: sans-serif;\n",
       "  }\n",
       "\n",
       "  td, th {\n",
       "      border-bottom: 0;\n",
       "      padding: 4px\n",
       "  }\n",
       "\n",
       "  tr:nth-child(odd) {\n",
       "      background: #eee;\n",
       "  }\n",
       "\n",
       "  tr:nth-child(even) {\n",
       "      background: #fff;\n",
       "  }\n",
       "\n",
       "  tr.header {\n",
       "      background: navy !important;\n",
       "      color: white;\n",
       "      font-weight: bold;\n",
       "  }\n",
       "\n",
       "  tr.subheader {\n",
       "      background: lightgray !important;\n",
       "      color: black;\n",
       "  }\n",
       "\n",
       "  tr.headerLastRow {\n",
       "      border-bottom: 2px solid black;\n",
       "  }\n",
       "\n",
       "  th.rowNumber, td.rowNumber {\n",
       "      text-align: right;\n",
       "  }\n",
       "\n",
       "</style>\n",
       "</head>\n",
       "<body>\n",
       "<table>\n",
       "  <thead>\n",
       "    <tr class = \"header headerLastRow\">\n",
       "      <th style = \"text-align: right;\">Index</th>\n",
       "      <th style = \"text-align: right;\">mean</th>\n",
       "    </tr>\n",
       "  </thead>\n",
       "  <tbody>\n",
       "    <tr>\n",
       "      <td style = \"text-align: right;\">9</td>\n",
       "      <td style = \"text-align: right;\">22.4</td>\n",
       "    </tr>\n",
       "    <tr>\n",
       "      <td style = \"text-align: right;\">16</td>\n",
       "      <td style = \"text-align: right;\">40.1</td>\n",
       "    </tr>\n",
       "    <tr>\n",
       "      <td style = \"text-align: right;\">24</td>\n",
       "      <td style = \"text-align: right;\">73.0</td>\n",
       "    </tr>\n",
       "  </tbody>\n",
       "</table>\n",
       "</body>\n",
       "</html>\n"
      ]
     },
     "metadata": {},
     "output_type": "display_data"
    }
   ],
   "source": [
    "mcs_header = ([\"Index\", \"mean\"])\n",
    "pretty_table(mcs; header=mcs_header, backend=Val(:html), standalone=true)"
   ]
  },
  {
   "cell_type": "markdown",
   "id": "ef4edf75-7c52-40a9-a7ec-d4cedce2123c",
   "metadata": {},
   "source": [
    "the following test for MCS values of 9, 16, and 28 shows that more MCS values affect the TCP throughput. More data are passing through the media."
   ]
  },
  {
   "cell_type": "markdown",
   "id": "c33fdbd1-ec76-45e1-9b54-eca66b243971",
   "metadata": {},
   "source": [
    "#### 2. Plot the TCP throughput for each MCS value using a barchart."
   ]
  },
  {
   "cell_type": "code",
   "execution_count": 64,
   "id": "e97308bd-1d7f-4cc3-b5d6-b545540c6464",
   "metadata": {},
   "outputs": [],
   "source": [
    "using Plots"
   ]
  },
  {
   "cell_type": "code",
   "execution_count": 65,
   "id": "3f463760-eb90-4003-910f-aa1874206ecf",
   "metadata": {},
   "outputs": [
    {
     "data": {
      "image/png": "[encoded data removed]",
      "image/svg+xml": [
       "<?xml version=\"1.0\" encoding=\"utf-8\"?>\n",
       "<svg xmlns=\"http://www.w3.org/2000/svg\" xmlns:xlink=\"http://www.w3.org/1999/xlink\" width=\"600\" height=\"400\" viewBox=\"0 0 2400 1600\">\n",
       "<defs>\n",
       "  <clipPath id=\"clip930\">\n",
       "    <rect x=\"0\" y=\"0\" width=\"2400\" height=\"1600\"/>\n",
       "  </clipPath>\n",
       "</defs>\n",
       "<path clip-path=\"url(#clip930)\" d=\"M0 1600 L2400 1600 L2400 0 L0 0  Z\" fill=\"#ffffff\" fill-rule=\"evenodd\" fill-opacity=\"1\"/>\n",
       "<defs>\n",
       "  <clipPath id=\"clip931\">\n",
       "    <rect x=\"480\" y=\"0\" width=\"1681\" height=\"1600\"/>\n",
       "  </clipPath>\n",
       "</defs>\n",
       "<path clip-path=\"url(#clip930)\" d=\"M141.853 1486.45 L2352.76 1486.45 L2352.76 47.2441 L141.853 47.2441  Z\" fill=\"#ffffff\" fill-rule=\"evenodd\" fill-opacity=\"1\"/>\n",
       "<defs>\n",
       "  <clipPath id=\"clip932\">\n",
       "    <rect x=\"141\" y=\"47\" width=\"2212\" height=\"1440\"/>\n",
       "  </clipPath>\n",
       "</defs>\n",
       "<polyline clip-path=\"url(#clip932)\" style=\"stroke:#000000; stroke-linecap:round; stroke-linejoin:round; stroke-width:2; stroke-opacity:0.1; fill:none\" points=\"148.833,1486.45 148.833,47.2441 \"/>\n",
       "<polyline clip-path=\"url(#clip932)\" style=\"stroke:#000000; stroke-linecap:round; stroke-linejoin:round; stroke-width:2; stroke-opacity:0.1; fill:none\" points=\"626.43,1486.45 626.43,47.2441 \"/>\n",
       "<polyline clip-path=\"url(#clip932)\" style=\"stroke:#000000; stroke-linecap:round; stroke-linejoin:round; stroke-width:2; stroke-opacity:0.1; fill:none\" points=\"1104.03,1486.45 1104.03,47.2441 \"/>\n",
       "<polyline clip-path=\"url(#clip932)\" style=\"stroke:#000000; stroke-linecap:round; stroke-linejoin:round; stroke-width:2; stroke-opacity:0.1; fill:none\" points=\"1581.62,1486.45 1581.62,47.2441 \"/>\n",
       "<polyline clip-path=\"url(#clip932)\" style=\"stroke:#000000; stroke-linecap:round; stroke-linejoin:round; stroke-width:2; stroke-opacity:0.1; fill:none\" points=\"2059.22,1486.45 2059.22,47.2441 \"/>\n",
       "<polyline clip-path=\"url(#clip930)\" style=\"stroke:#000000; stroke-linecap:round; stroke-linejoin:round; stroke-width:4; stroke-opacity:1; fill:none\" points=\"141.853,1486.45 2352.76,1486.45 \"/>\n",
       "<polyline clip-path=\"url(#clip930)\" style=\"stroke:#000000; stroke-linecap:round; stroke-linejoin:round; stroke-width:4; stroke-opacity:1; fill:none\" points=\"148.833,1486.45 148.833,1467.55 \"/>\n",
       "<polyline clip-path=\"url(#clip930)\" style=\"stroke:#000000; stroke-linecap:round; stroke-linejoin:round; stroke-width:4; stroke-opacity:1; fill:none\" points=\"626.43,1486.45 626.43,1467.55 \"/>\n",
       "<polyline clip-path=\"url(#clip930)\" style=\"stroke:#000000; stroke-linecap:round; stroke-linejoin:round; stroke-width:4; stroke-opacity:1; fill:none\" points=\"1104.03,1486.45 1104.03,1467.55 \"/>\n",
       "<polyline clip-path=\"url(#clip930)\" style=\"stroke:#000000; stroke-linecap:round; stroke-linejoin:round; stroke-width:4; stroke-opacity:1; fill:none\" points=\"1581.62,1486.45 1581.62,1467.55 \"/>\n",
       "<polyline clip-path=\"url(#clip930)\" style=\"stroke:#000000; stroke-linecap:round; stroke-linejoin:round; stroke-width:4; stroke-opacity:1; fill:none\" points=\"2059.22,1486.45 2059.22,1467.55 \"/>\n",
       "<path clip-path=\"url(#clip930)\" d=\"M139.111 1514.29 L157.468 1514.29 L157.468 1518.22 L143.394 1518.22 L143.394 1526.7 Q144.412 1526.35 145.431 1526.19 Q146.449 1526 147.468 1526 Q153.255 1526 156.634 1529.17 Q160.014 1532.34 160.014 1537.76 Q160.014 1543.34 156.542 1546.44 Q153.07 1549.52 146.75 1549.52 Q144.574 1549.52 142.306 1549.15 Q140.06 1548.78 137.653 1548.04 L137.653 1543.34 Q139.736 1544.47 141.959 1545.03 Q144.181 1545.58 146.658 1545.58 Q150.662 1545.58 153 1543.48 Q155.338 1541.37 155.338 1537.76 Q155.338 1534.15 153 1532.04 Q150.662 1529.94 146.658 1529.94 Q144.783 1529.94 142.908 1530.35 Q141.056 1530.77 139.111 1531.65 L139.111 1514.29 Z\" fill=\"#000000\" fill-rule=\"nonzero\" fill-opacity=\"1\" /><path clip-path=\"url(#clip930)\" d=\"M601.117 1544.91 L608.756 1544.91 L608.756 1518.55 L600.446 1520.21 L600.446 1515.95 L608.71 1514.29 L613.386 1514.29 L613.386 1544.91 L621.024 1544.91 L621.024 1548.85 L601.117 1548.85 L601.117 1544.91 Z\" fill=\"#000000\" fill-rule=\"nonzero\" fill-opacity=\"1\" /><path clip-path=\"url(#clip930)\" d=\"M640.469 1517.37 Q636.858 1517.37 635.029 1520.93 Q633.223 1524.47 633.223 1531.6 Q633.223 1538.71 635.029 1542.27 Q636.858 1545.82 640.469 1545.82 Q644.103 1545.82 645.909 1542.27 Q647.737 1538.71 647.737 1531.6 Q647.737 1524.47 645.909 1520.93 Q644.103 1517.37 640.469 1517.37 M640.469 1513.66 Q646.279 1513.66 649.335 1518.27 Q652.413 1522.85 652.413 1531.6 Q652.413 1540.33 649.335 1544.94 Q646.279 1549.52 640.469 1549.52 Q634.659 1549.52 631.58 1544.94 Q628.524 1540.33 628.524 1531.6 Q628.524 1522.85 631.58 1518.27 Q634.659 1513.66 640.469 1513.66 Z\" fill=\"#000000\" fill-rule=\"nonzero\" fill-opacity=\"1\" /><path clip-path=\"url(#clip930)\" d=\"M1079.21 1544.91 L1086.85 1544.91 L1086.85 1518.55 L1078.54 1520.21 L1078.54 1515.95 L1086.8 1514.29 L1091.48 1514.29 L1091.48 1544.91 L1099.12 1544.91 L1099.12 1548.85 L1079.21 1548.85 L1079.21 1544.91 Z\" fill=\"#000000\" fill-rule=\"nonzero\" fill-opacity=\"1\" /><path clip-path=\"url(#clip930)\" d=\"M1108.61 1514.29 L1126.97 1514.29 L1126.97 1518.22 L1112.89 1518.22 L1112.89 1526.7 Q1113.91 1526.35 1114.93 1526.19 Q1115.95 1526 1116.97 1526 Q1122.75 1526 1126.13 1529.17 Q1129.51 1532.34 1129.51 1537.76 Q1129.51 1543.34 1126.04 1546.44 Q1122.57 1549.52 1116.25 1549.52 Q1114.07 1549.52 1111.8 1549.15 Q1109.56 1548.78 1107.15 1548.04 L1107.15 1543.34 Q1109.23 1544.47 1111.46 1545.03 Q1113.68 1545.58 1116.16 1545.58 Q1120.16 1545.58 1122.5 1543.48 Q1124.84 1541.37 1124.84 1537.76 Q1124.84 1534.15 1122.5 1532.04 Q1120.16 1529.94 1116.16 1529.94 Q1114.28 1529.94 1112.41 1530.35 Q1110.55 1530.77 1108.61 1531.65 L1108.61 1514.29 Z\" fill=\"#000000\" fill-rule=\"nonzero\" fill-opacity=\"1\" /><path clip-path=\"url(#clip930)\" d=\"M1560.39 1544.91 L1576.71 1544.91 L1576.71 1548.85 L1554.77 1548.85 L1554.77 1544.91 Q1557.43 1542.16 1562.02 1537.53 Q1566.62 1532.88 1567.8 1531.53 Q1570.05 1529.01 1570.93 1527.27 Q1571.83 1525.51 1571.83 1523.82 Q1571.83 1521.07 1569.89 1519.33 Q1567.96 1517.6 1564.86 1517.6 Q1562.66 1517.6 1560.21 1518.36 Q1557.78 1519.13 1555 1520.68 L1555 1515.95 Q1557.83 1514.82 1560.28 1514.24 Q1562.73 1513.66 1564.77 1513.66 Q1570.14 1513.66 1573.33 1516.35 Q1576.53 1519.03 1576.53 1523.52 Q1576.53 1525.65 1575.72 1527.57 Q1574.93 1529.47 1572.83 1532.07 Q1572.25 1532.74 1569.14 1535.95 Q1566.04 1539.15 1560.39 1544.91 Z\" fill=\"#000000\" fill-rule=\"nonzero\" fill-opacity=\"1\" /><path clip-path=\"url(#clip930)\" d=\"M1596.53 1517.37 Q1592.92 1517.37 1591.09 1520.93 Q1589.28 1524.47 1589.28 1531.6 Q1589.28 1538.71 1591.09 1542.27 Q1592.92 1545.82 1596.53 1545.82 Q1600.16 1545.82 1601.97 1542.27 Q1603.8 1538.71 1603.8 1531.6 Q1603.8 1524.47 1601.97 1520.93 Q1600.16 1517.37 1596.53 1517.37 M1596.53 1513.66 Q1602.34 1513.66 1605.39 1518.27 Q1608.47 1522.85 1608.47 1531.6 Q1608.47 1540.33 1605.39 1544.94 Q1602.34 1549.52 1596.53 1549.52 Q1590.72 1549.52 1587.64 1544.94 Q1584.58 1540.33 1584.58 1531.6 Q1584.58 1522.85 1587.64 1518.27 Q1590.72 1513.66 1596.53 1513.66 Z\" fill=\"#000000\" fill-rule=\"nonzero\" fill-opacity=\"1\" /><path clip-path=\"url(#clip930)\" d=\"M2038.49 1544.91 L2054.81 1544.91 L2054.81 1548.85 L2032.86 1548.85 L2032.86 1544.91 Q2035.53 1542.16 2040.11 1537.53 Q2044.72 1532.88 2045.9 1531.53 Q2048.14 1529.01 2049.02 1527.27 Q2049.92 1525.51 2049.92 1523.82 Q2049.92 1521.07 2047.98 1519.33 Q2046.06 1517.6 2042.96 1517.6 Q2040.76 1517.6 2038.3 1518.36 Q2035.87 1519.13 2033.1 1520.68 L2033.1 1515.95 Q2035.92 1514.82 2038.37 1514.24 Q2040.83 1513.66 2042.86 1513.66 Q2048.23 1513.66 2051.43 1516.35 Q2054.62 1519.03 2054.62 1523.52 Q2054.62 1525.65 2053.81 1527.57 Q2053.03 1529.47 2050.92 1532.07 Q2050.34 1532.74 2047.24 1535.95 Q2044.14 1539.15 2038.49 1544.91 Z\" fill=\"#000000\" fill-rule=\"nonzero\" fill-opacity=\"1\" /><path clip-path=\"url(#clip930)\" d=\"M2064.67 1514.29 L2083.03 1514.29 L2083.03 1518.22 L2068.95 1518.22 L2068.95 1526.7 Q2069.97 1526.35 2070.99 1526.19 Q2072.01 1526 2073.03 1526 Q2078.81 1526 2082.19 1529.17 Q2085.57 1532.34 2085.57 1537.76 Q2085.57 1543.34 2082.1 1546.44 Q2078.63 1549.52 2072.31 1549.52 Q2070.13 1549.52 2067.86 1549.15 Q2065.62 1548.78 2063.21 1548.04 L2063.21 1543.34 Q2065.29 1544.47 2067.52 1545.03 Q2069.74 1545.58 2072.22 1545.58 Q2076.22 1545.58 2078.56 1543.48 Q2080.9 1541.37 2080.9 1537.76 Q2080.9 1534.15 2078.56 1532.04 Q2076.22 1529.94 2072.22 1529.94 Q2070.34 1529.94 2068.47 1530.35 Q2066.61 1530.77 2064.67 1531.65 L2064.67 1514.29 Z\" fill=\"#000000\" fill-rule=\"nonzero\" fill-opacity=\"1\" /><polyline clip-path=\"url(#clip932)\" style=\"stroke:#000000; stroke-linecap:round; stroke-linejoin:round; stroke-width:2; stroke-opacity:0.1; fill:none\" points=\"141.853,1486.45 2352.76,1486.45 \"/>\n",
       "<polyline clip-path=\"url(#clip932)\" style=\"stroke:#000000; stroke-linecap:round; stroke-linejoin:round; stroke-width:2; stroke-opacity:0.1; fill:none\" points=\"141.853,1092.15 2352.76,1092.15 \"/>\n",
       "<polyline clip-path=\"url(#clip932)\" style=\"stroke:#000000; stroke-linecap:round; stroke-linejoin:round; stroke-width:2; stroke-opacity:0.1; fill:none\" points=\"141.853,697.843 2352.76,697.843 \"/>\n",
       "<polyline clip-path=\"url(#clip932)\" style=\"stroke:#000000; stroke-linecap:round; stroke-linejoin:round; stroke-width:2; stroke-opacity:0.1; fill:none\" points=\"141.853,303.541 2352.76,303.541 \"/>\n",
       "<polyline clip-path=\"url(#clip930)\" style=\"stroke:#000000; stroke-linecap:round; stroke-linejoin:round; stroke-width:4; stroke-opacity:1; fill:none\" points=\"141.853,1486.45 141.853,47.2441 \"/>\n",
       "<polyline clip-path=\"url(#clip930)\" style=\"stroke:#000000; stroke-linecap:round; stroke-linejoin:round; stroke-width:4; stroke-opacity:1; fill:none\" points=\"141.853,1486.45 160.751,1486.45 \"/>\n",
       "<polyline clip-path=\"url(#clip930)\" style=\"stroke:#000000; stroke-linecap:round; stroke-linejoin:round; stroke-width:4; stroke-opacity:1; fill:none\" points=\"141.853,1092.15 160.751,1092.15 \"/>\n",
       "<polyline clip-path=\"url(#clip930)\" style=\"stroke:#000000; stroke-linecap:round; stroke-linejoin:round; stroke-width:4; stroke-opacity:1; fill:none\" points=\"141.853,697.843 160.751,697.843 \"/>\n",
       "<polyline clip-path=\"url(#clip930)\" style=\"stroke:#000000; stroke-linecap:round; stroke-linejoin:round; stroke-width:4; stroke-opacity:1; fill:none\" points=\"141.853,303.541 160.751,303.541 \"/>\n",
       "<path clip-path=\"url(#clip930)\" d=\"M93.9086 1472.25 Q90.2975 1472.25 88.4688 1475.81 Q86.6632 1479.35 86.6632 1486.48 Q86.6632 1493.59 88.4688 1497.15 Q90.2975 1500.7 93.9086 1500.7 Q97.5428 1500.7 99.3483 1497.15 Q101.177 1493.59 101.177 1486.48 Q101.177 1479.35 99.3483 1475.81 Q97.5428 1472.25 93.9086 1472.25 M93.9086 1468.54 Q99.7187 1468.54 102.774 1473.15 Q105.853 1477.73 105.853 1486.48 Q105.853 1495.21 102.774 1499.82 Q99.7187 1504.4 93.9086 1504.4 Q88.0984 1504.4 85.0197 1499.82 Q81.9642 1495.21 81.9642 1486.48 Q81.9642 1477.73 85.0197 1473.15 Q88.0984 1468.54 93.9086 1468.54 Z\" fill=\"#000000\" fill-rule=\"nonzero\" fill-opacity=\"1\" /><path clip-path=\"url(#clip930)\" d=\"M57.7745 1105.49 L74.0939 1105.49 L74.0939 1109.43 L52.1495 1109.43 L52.1495 1105.49 Q54.8115 1102.74 59.3949 1098.11 Q64.0013 1093.45 65.1819 1092.11 Q67.4272 1089.59 68.3068 1087.85 Q69.2096 1086.09 69.2096 1084.4 Q69.2096 1081.65 67.2652 1079.91 Q65.3439 1078.18 62.2421 1078.18 Q60.043 1078.18 57.5893 1078.94 Q55.1588 1079.7 52.381 1081.25 L52.381 1076.53 Q55.2051 1075.4 57.6588 1074.82 Q60.1124 1074.24 62.1495 1074.24 Q67.5198 1074.24 70.7142 1076.93 Q73.9087 1079.61 73.9087 1084.1 Q73.9087 1086.23 73.0985 1088.15 Q72.3115 1090.05 70.205 1092.64 Q69.6263 1093.31 66.5245 1096.53 Q63.4226 1099.73 57.7745 1105.49 Z\" fill=\"#000000\" fill-rule=\"nonzero\" fill-opacity=\"1\" /><path clip-path=\"url(#clip930)\" d=\"M93.9086 1077.94 Q90.2975 1077.94 88.4688 1081.51 Q86.6632 1085.05 86.6632 1092.18 Q86.6632 1099.29 88.4688 1102.85 Q90.2975 1106.39 93.9086 1106.39 Q97.5428 1106.39 99.3483 1102.85 Q101.177 1099.29 101.177 1092.18 Q101.177 1085.05 99.3483 1081.51 Q97.5428 1077.94 93.9086 1077.94 M93.9086 1074.24 Q99.7187 1074.24 102.774 1078.85 Q105.853 1083.43 105.853 1092.18 Q105.853 1100.91 102.774 1105.51 Q99.7187 1110.1 93.9086 1110.1 Q88.0984 1110.1 85.0197 1105.51 Q81.9642 1100.91 81.9642 1092.18 Q81.9642 1083.43 85.0197 1078.85 Q88.0984 1074.24 93.9086 1074.24 Z\" fill=\"#000000\" fill-rule=\"nonzero\" fill-opacity=\"1\" /><path clip-path=\"url(#clip930)\" d=\"M66.5939 684.637 L54.7884 703.086 L66.5939 703.086 L66.5939 684.637 M65.367 680.563 L71.2466 680.563 L71.2466 703.086 L76.1772 703.086 L76.1772 706.975 L71.2466 706.975 L71.2466 715.123 L66.5939 715.123 L66.5939 706.975 L50.9921 706.975 L50.9921 702.461 L65.367 680.563 Z\" fill=\"#000000\" fill-rule=\"nonzero\" fill-opacity=\"1\" /><path clip-path=\"url(#clip930)\" d=\"M93.9086 683.642 Q90.2975 683.642 88.4688 687.207 Q86.6632 690.748 86.6632 697.878 Q86.6632 704.984 88.4688 708.549 Q90.2975 712.091 93.9086 712.091 Q97.5428 712.091 99.3483 708.549 Q101.177 704.984 101.177 697.878 Q101.177 690.748 99.3483 687.207 Q97.5428 683.642 93.9086 683.642 M93.9086 679.938 Q99.7187 679.938 102.774 684.545 Q105.853 689.128 105.853 697.878 Q105.853 706.605 102.774 711.211 Q99.7187 715.794 93.9086 715.794 Q88.0984 715.794 85.0197 711.211 Q81.9642 706.605 81.9642 697.878 Q81.9642 689.128 85.0197 684.545 Q88.0984 679.938 93.9086 679.938 Z\" fill=\"#000000\" fill-rule=\"nonzero\" fill-opacity=\"1\" /><path clip-path=\"url(#clip930)\" d=\"M64.3254 301.677 Q61.1773 301.677 59.3254 303.83 Q57.4967 305.983 57.4967 309.733 Q57.4967 313.46 59.3254 315.636 Q61.1773 317.788 64.3254 317.788 Q67.4735 317.788 69.3022 315.636 Q71.1541 313.46 71.1541 309.733 Q71.1541 305.983 69.3022 303.83 Q67.4735 301.677 64.3254 301.677 M73.6077 287.025 L73.6077 291.284 Q71.8485 290.45 70.0429 290.011 Q68.2606 289.571 66.5013 289.571 Q61.8717 289.571 59.418 292.696 Q56.9875 295.821 56.6402 302.14 Q58.006 300.126 60.0662 299.062 Q62.1263 297.974 64.6032 297.974 Q69.8115 297.974 72.8207 301.145 Q75.8531 304.293 75.8531 309.733 Q75.8531 315.057 72.705 318.274 Q69.5568 321.492 64.3254 321.492 Q58.33 321.492 55.1588 316.909 Q51.9875 312.302 51.9875 303.575 Q51.9875 295.381 55.8764 290.52 Q59.7652 285.636 66.3161 285.636 Q68.0754 285.636 69.8578 285.983 Q71.6633 286.33 73.6077 287.025 Z\" fill=\"#000000\" fill-rule=\"nonzero\" fill-opacity=\"1\" /><path clip-path=\"url(#clip930)\" d=\"M93.9086 289.339 Q90.2975 289.339 88.4688 292.904 Q86.6632 296.446 86.6632 303.575 Q86.6632 310.682 88.4688 314.247 Q90.2975 317.788 93.9086 317.788 Q97.5428 317.788 99.3483 314.247 Q101.177 310.682 101.177 303.575 Q101.177 296.446 99.3483 292.904 Q97.5428 289.339 93.9086 289.339 M93.9086 285.636 Q99.7187 285.636 102.774 290.242 Q105.853 294.825 105.853 303.575 Q105.853 312.302 102.774 316.909 Q99.7187 321.492 93.9086 321.492 Q88.0984 321.492 85.0197 316.909 Q81.9642 312.302 81.9642 303.575 Q81.9642 294.825 85.0197 290.242 Q88.0984 285.636 93.9086 285.636 Z\" fill=\"#000000\" fill-rule=\"nonzero\" fill-opacity=\"1\" /><path clip-path=\"url(#clip932)\" d=\"M263.457 1044.83 L263.457 1486.45 L798.364 1486.45 L798.364 1044.83 L263.457 1044.83 L263.457 1044.83  Z\" fill=\"#009af9\" fill-rule=\"evenodd\" fill-opacity=\"1\"/>\n",
       "<polyline clip-path=\"url(#clip932)\" style=\"stroke:#000000; stroke-linecap:round; stroke-linejoin:round; stroke-width:4; stroke-opacity:1; fill:none\" points=\"263.457,1044.83 263.457,1486.45 798.364,1486.45 798.364,1044.83 263.457,1044.83 \"/>\n",
       "<path clip-path=\"url(#clip932)\" d=\"M932.091 695.872 L932.091 1486.45 L1467 1486.45 L1467 695.872 L932.091 695.872 L932.091 695.872  Z\" fill=\"#009af9\" fill-rule=\"evenodd\" fill-opacity=\"1\"/>\n",
       "<polyline clip-path=\"url(#clip932)\" style=\"stroke:#000000; stroke-linecap:round; stroke-linejoin:round; stroke-width:4; stroke-opacity:1; fill:none\" points=\"932.091,695.872 932.091,1486.45 1467,1486.45 1467,695.872 932.091,695.872 \"/>\n",
       "<path clip-path=\"url(#clip932)\" d=\"M1696.24 47.2441 L1696.24 1486.45 L2231.15 1486.45 L2231.15 47.2441 L1696.24 47.2441 L1696.24 47.2441  Z\" fill=\"#009af9\" fill-rule=\"evenodd\" fill-opacity=\"1\"/>\n",
       "<polyline clip-path=\"url(#clip932)\" style=\"stroke:#000000; stroke-linecap:round; stroke-linejoin:round; stroke-width:4; stroke-opacity:1; fill:none\" points=\"1696.24,47.2441 1696.24,1486.45 2231.15,1486.45 2231.15,47.2441 1696.24,47.2441 \"/>\n",
       "<circle clip-path=\"url(#clip932)\" style=\"fill:#009af9; stroke:none; fill-opacity:0\" cx=\"530.91\" cy=\"1044.83\" r=\"2\"/>\n",
       "<circle clip-path=\"url(#clip932)\" style=\"fill:#009af9; stroke:none; fill-opacity:0\" cx=\"1199.54\" cy=\"695.872\" r=\"2\"/>\n",
       "<circle clip-path=\"url(#clip932)\" style=\"fill:#009af9; stroke:none; fill-opacity:0\" cx=\"1963.7\" cy=\"47.2441\" r=\"2\"/>\n",
       "<path clip-path=\"url(#clip930)\" d=\"M215.55 198.898 L489.07 198.898 L489.07 95.2176 L215.55 95.2176  Z\" fill=\"#ffffff\" fill-rule=\"evenodd\" fill-opacity=\"1\"/>\n",
       "<polyline clip-path=\"url(#clip930)\" style=\"stroke:#000000; stroke-linecap:round; stroke-linejoin:round; stroke-width:4; stroke-opacity:1; fill:none\" points=\"215.55,198.898 489.07,198.898 489.07,95.2176 215.55,95.2176 215.55,198.898 \"/>\n",
       "<path clip-path=\"url(#clip930)\" d=\"M240.115 167.794 L387.509 167.794 L387.509 126.322 L240.115 126.322 L240.115 167.794  Z\" fill=\"#009af9\" fill-rule=\"evenodd\" fill-opacity=\"1\"/>\n",
       "<polyline clip-path=\"url(#clip930)\" style=\"stroke:#000000; stroke-linecap:round; stroke-linejoin:round; stroke-width:4; stroke-opacity:1; fill:none\" points=\"240.115,167.794 387.509,167.794 387.509,126.322 240.115,126.322 240.115,167.794 \"/>\n",
       "<path clip-path=\"url(#clip930)\" d=\"M425.917 166.745 Q424.111 171.375 422.398 172.787 Q420.685 174.199 417.815 174.199 L414.412 174.199 L414.412 170.634 L416.912 170.634 Q418.672 170.634 419.644 169.8 Q420.616 168.967 421.797 165.865 L422.56 163.921 L412.074 138.412 L416.588 138.412 L424.69 158.689 L432.792 138.412 L437.306 138.412 L425.917 166.745 Z\" fill=\"#000000\" fill-rule=\"nonzero\" fill-opacity=\"1\" /><path clip-path=\"url(#clip930)\" d=\"M444.597 160.402 L452.236 160.402 L452.236 134.037 L443.926 135.703 L443.926 131.444 L452.19 129.778 L456.866 129.778 L456.866 160.402 L464.505 160.402 L464.505 164.338 L444.597 164.338 L444.597 160.402 Z\" fill=\"#000000\" fill-rule=\"nonzero\" fill-opacity=\"1\" /></svg>\n"
      ],
      "text/html": [
       "<?xml version=\"1.0\" encoding=\"utf-8\"?>\n",
       "<svg xmlns=\"http://www.w3.org/2000/svg\" xmlns:xlink=\"http://www.w3.org/1999/xlink\" width=\"600\" height=\"400\" viewBox=\"0 0 2400 1600\">\n",
       "<defs>\n",
       "  <clipPath id=\"clip980\">\n",
       "    <rect x=\"0\" y=\"0\" width=\"2400\" height=\"1600\"/>\n",
       "  </clipPath>\n",
       "</defs>\n",
       "<path clip-path=\"url(#clip980)\" d=\"M0 1600 L2400 1600 L2400 0 L0 0  Z\" fill=\"#ffffff\" fill-rule=\"evenodd\" fill-opacity=\"1\"/>\n",
       "<defs>\n",
       "  <clipPath id=\"clip981\">\n",
       "    <rect x=\"480\" y=\"0\" width=\"1681\" height=\"1600\"/>\n",
       "  </clipPath>\n",
       "</defs>\n",
       "<path clip-path=\"url(#clip980)\" d=\"M141.853 1486.45 L2352.76 1486.45 L2352.76 47.2441 L141.853 47.2441  Z\" fill=\"#ffffff\" fill-rule=\"evenodd\" fill-opacity=\"1\"/>\n",
       "<defs>\n",
       "  <clipPath id=\"clip982\">\n",
       "    <rect x=\"141\" y=\"47\" width=\"2212\" height=\"1440\"/>\n",
       "  </clipPath>\n",
       "</defs>\n",
       "<polyline clip-path=\"url(#clip982)\" style=\"stroke:#000000; stroke-linecap:round; stroke-linejoin:round; stroke-width:2; stroke-opacity:0.1; fill:none\" points=\"148.833,1486.45 148.833,47.2441 \"/>\n",
       "<polyline clip-path=\"url(#clip982)\" style=\"stroke:#000000; stroke-linecap:round; stroke-linejoin:round; stroke-width:2; stroke-opacity:0.1; fill:none\" points=\"626.43,1486.45 626.43,47.2441 \"/>\n",
       "<polyline clip-path=\"url(#clip982)\" style=\"stroke:#000000; stroke-linecap:round; stroke-linejoin:round; stroke-width:2; stroke-opacity:0.1; fill:none\" points=\"1104.03,1486.45 1104.03,47.2441 \"/>\n",
       "<polyline clip-path=\"url(#clip982)\" style=\"stroke:#000000; stroke-linecap:round; stroke-linejoin:round; stroke-width:2; stroke-opacity:0.1; fill:none\" points=\"1581.62,1486.45 1581.62,47.2441 \"/>\n",
       "<polyline clip-path=\"url(#clip982)\" style=\"stroke:#000000; stroke-linecap:round; stroke-linejoin:round; stroke-width:2; stroke-opacity:0.1; fill:none\" points=\"2059.22,1486.45 2059.22,47.2441 \"/>\n",
       "<polyline clip-path=\"url(#clip980)\" style=\"stroke:#000000; stroke-linecap:round; stroke-linejoin:round; stroke-width:4; stroke-opacity:1; fill:none\" points=\"141.853,1486.45 2352.76,1486.45 \"/>\n",
       "<polyline clip-path=\"url(#clip980)\" style=\"stroke:#000000; stroke-linecap:round; stroke-linejoin:round; stroke-width:4; stroke-opacity:1; fill:none\" points=\"148.833,1486.45 148.833,1467.55 \"/>\n",
       "<polyline clip-path=\"url(#clip980)\" style=\"stroke:#000000; stroke-linecap:round; stroke-linejoin:round; stroke-width:4; stroke-opacity:1; fill:none\" points=\"626.43,1486.45 626.43,1467.55 \"/>\n",
       "<polyline clip-path=\"url(#clip980)\" style=\"stroke:#000000; stroke-linecap:round; stroke-linejoin:round; stroke-width:4; stroke-opacity:1; fill:none\" points=\"1104.03,1486.45 1104.03,1467.55 \"/>\n",
       "<polyline clip-path=\"url(#clip980)\" style=\"stroke:#000000; stroke-linecap:round; stroke-linejoin:round; stroke-width:4; stroke-opacity:1; fill:none\" points=\"1581.62,1486.45 1581.62,1467.55 \"/>\n",
       "<polyline clip-path=\"url(#clip980)\" style=\"stroke:#000000; stroke-linecap:round; stroke-linejoin:round; stroke-width:4; stroke-opacity:1; fill:none\" points=\"2059.22,1486.45 2059.22,1467.55 \"/>\n",
       "<path clip-path=\"url(#clip980)\" d=\"M139.111 1514.29 L157.468 1514.29 L157.468 1518.22 L143.394 1518.22 L143.394 1526.7 Q144.412 1526.35 145.431 1526.19 Q146.449 1526 147.468 1526 Q153.255 1526 156.634 1529.17 Q160.014 1532.34 160.014 1537.76 Q160.014 1543.34 156.542 1546.44 Q153.07 1549.52 146.75 1549.52 Q144.574 1549.52 142.306 1549.15 Q140.06 1548.78 137.653 1548.04 L137.653 1543.34 Q139.736 1544.47 141.959 1545.03 Q144.181 1545.58 146.658 1545.58 Q150.662 1545.58 153 1543.48 Q155.338 1541.37 155.338 1537.76 Q155.338 1534.15 153 1532.04 Q150.662 1529.94 146.658 1529.94 Q144.783 1529.94 142.908 1530.35 Q141.056 1530.77 139.111 1531.65 L139.111 1514.29 Z\" fill=\"#000000\" fill-rule=\"nonzero\" fill-opacity=\"1\" /><path clip-path=\"url(#clip980)\" d=\"M601.117 1544.91 L608.756 1544.91 L608.756 1518.55 L600.446 1520.21 L600.446 1515.95 L608.71 1514.29 L613.386 1514.29 L613.386 1544.91 L621.024 1544.91 L621.024 1548.85 L601.117 1548.85 L601.117 1544.91 Z\" fill=\"#000000\" fill-rule=\"nonzero\" fill-opacity=\"1\" /><path clip-path=\"url(#clip980)\" d=\"M640.469 1517.37 Q636.858 1517.37 635.029 1520.93 Q633.223 1524.47 633.223 1531.6 Q633.223 1538.71 635.029 1542.27 Q636.858 1545.82 640.469 1545.82 Q644.103 1545.82 645.909 1542.27 Q647.737 1538.71 647.737 1531.6 Q647.737 1524.47 645.909 1520.93 Q644.103 1517.37 640.469 1517.37 M640.469 1513.66 Q646.279 1513.66 649.335 1518.27 Q652.413 1522.85 652.413 1531.6 Q652.413 1540.33 649.335 1544.94 Q646.279 1549.52 640.469 1549.52 Q634.659 1549.52 631.58 1544.94 Q628.524 1540.33 628.524 1531.6 Q628.524 1522.85 631.58 1518.27 Q634.659 1513.66 640.469 1513.66 Z\" fill=\"#000000\" fill-rule=\"nonzero\" fill-opacity=\"1\" /><path clip-path=\"url(#clip980)\" d=\"M1079.21 1544.91 L1086.85 1544.91 L1086.85 1518.55 L1078.54 1520.21 L1078.54 1515.95 L1086.8 1514.29 L1091.48 1514.29 L1091.48 1544.91 L1099.12 1544.91 L1099.12 1548.85 L1079.21 1548.85 L1079.21 1544.91 Z\" fill=\"#000000\" fill-rule=\"nonzero\" fill-opacity=\"1\" /><path clip-path=\"url(#clip980)\" d=\"M1108.61 1514.29 L1126.97 1514.29 L1126.97 1518.22 L1112.89 1518.22 L1112.89 1526.7 Q1113.91 1526.35 1114.93 1526.19 Q1115.95 1526 1116.97 1526 Q1122.75 1526 1126.13 1529.17 Q1129.51 1532.34 1129.51 1537.76 Q1129.51 1543.34 1126.04 1546.44 Q1122.57 1549.52 1116.25 1549.52 Q1114.07 1549.52 1111.8 1549.15 Q1109.56 1548.78 1107.15 1548.04 L1107.15 1543.34 Q1109.23 1544.47 1111.46 1545.03 Q1113.68 1545.58 1116.16 1545.58 Q1120.16 1545.58 1122.5 1543.48 Q1124.84 1541.37 1124.84 1537.76 Q1124.84 1534.15 1122.5 1532.04 Q1120.16 1529.94 1116.16 1529.94 Q1114.28 1529.94 1112.41 1530.35 Q1110.55 1530.77 1108.61 1531.65 L1108.61 1514.29 Z\" fill=\"#000000\" fill-rule=\"nonzero\" fill-opacity=\"1\" /><path clip-path=\"url(#clip980)\" d=\"M1560.39 1544.91 L1576.71 1544.91 L1576.71 1548.85 L1554.77 1548.85 L1554.77 1544.91 Q1557.43 1542.16 1562.02 1537.53 Q1566.62 1532.88 1567.8 1531.53 Q1570.05 1529.01 1570.93 1527.27 Q1571.83 1525.51 1571.83 1523.82 Q1571.83 1521.07 1569.89 1519.33 Q1567.96 1517.6 1564.86 1517.6 Q1562.66 1517.6 1560.21 1518.36 Q1557.78 1519.13 1555 1520.68 L1555 1515.95 Q1557.83 1514.82 1560.28 1514.24 Q1562.73 1513.66 1564.77 1513.66 Q1570.14 1513.66 1573.33 1516.35 Q1576.53 1519.03 1576.53 1523.52 Q1576.53 1525.65 1575.72 1527.57 Q1574.93 1529.47 1572.83 1532.07 Q1572.25 1532.74 1569.14 1535.95 Q1566.04 1539.15 1560.39 1544.91 Z\" fill=\"#000000\" fill-rule=\"nonzero\" fill-opacity=\"1\" /><path clip-path=\"url(#clip980)\" d=\"M1596.53 1517.37 Q1592.92 1517.37 1591.09 1520.93 Q1589.28 1524.47 1589.28 1531.6 Q1589.28 1538.71 1591.09 1542.27 Q1592.92 1545.82 1596.53 1545.82 Q1600.16 1545.82 1601.97 1542.27 Q1603.8 1538.71 1603.8 1531.6 Q1603.8 1524.47 1601.97 1520.93 Q1600.16 1517.37 1596.53 1517.37 M1596.53 1513.66 Q1602.34 1513.66 1605.39 1518.27 Q1608.47 1522.85 1608.47 1531.6 Q1608.47 1540.33 1605.39 1544.94 Q1602.34 1549.52 1596.53 1549.52 Q1590.72 1549.52 1587.64 1544.94 Q1584.58 1540.33 1584.58 1531.6 Q1584.58 1522.85 1587.64 1518.27 Q1590.72 1513.66 1596.53 1513.66 Z\" fill=\"#000000\" fill-rule=\"nonzero\" fill-opacity=\"1\" /><path clip-path=\"url(#clip980)\" d=\"M2038.49 1544.91 L2054.81 1544.91 L2054.81 1548.85 L2032.86 1548.85 L2032.86 1544.91 Q2035.53 1542.16 2040.11 1537.53 Q2044.72 1532.88 2045.9 1531.53 Q2048.14 1529.01 2049.02 1527.27 Q2049.92 1525.51 2049.92 1523.82 Q2049.92 1521.07 2047.98 1519.33 Q2046.06 1517.6 2042.96 1517.6 Q2040.76 1517.6 2038.3 1518.36 Q2035.87 1519.13 2033.1 1520.68 L2033.1 1515.95 Q2035.92 1514.82 2038.37 1514.24 Q2040.83 1513.66 2042.86 1513.66 Q2048.23 1513.66 2051.43 1516.35 Q2054.62 1519.03 2054.62 1523.52 Q2054.62 1525.65 2053.81 1527.57 Q2053.03 1529.47 2050.92 1532.07 Q2050.34 1532.74 2047.24 1535.95 Q2044.14 1539.15 2038.49 1544.91 Z\" fill=\"#000000\" fill-rule=\"nonzero\" fill-opacity=\"1\" /><path clip-path=\"url(#clip980)\" d=\"M2064.67 1514.29 L2083.03 1514.29 L2083.03 1518.22 L2068.95 1518.22 L2068.95 1526.7 Q2069.97 1526.35 2070.99 1526.19 Q2072.01 1526 2073.03 1526 Q2078.81 1526 2082.19 1529.17 Q2085.57 1532.34 2085.57 1537.76 Q2085.57 1543.34 2082.1 1546.44 Q2078.63 1549.52 2072.31 1549.52 Q2070.13 1549.52 2067.86 1549.15 Q2065.62 1548.78 2063.21 1548.04 L2063.21 1543.34 Q2065.29 1544.47 2067.52 1545.03 Q2069.74 1545.58 2072.22 1545.58 Q2076.22 1545.58 2078.56 1543.48 Q2080.9 1541.37 2080.9 1537.76 Q2080.9 1534.15 2078.56 1532.04 Q2076.22 1529.94 2072.22 1529.94 Q2070.34 1529.94 2068.47 1530.35 Q2066.61 1530.77 2064.67 1531.65 L2064.67 1514.29 Z\" fill=\"#000000\" fill-rule=\"nonzero\" fill-opacity=\"1\" /><polyline clip-path=\"url(#clip982)\" style=\"stroke:#000000; stroke-linecap:round; stroke-linejoin:round; stroke-width:2; stroke-opacity:0.1; fill:none\" points=\"141.853,1486.45 2352.76,1486.45 \"/>\n",
       "<polyline clip-path=\"url(#clip982)\" style=\"stroke:#000000; stroke-linecap:round; stroke-linejoin:round; stroke-width:2; stroke-opacity:0.1; fill:none\" points=\"141.853,1092.15 2352.76,1092.15 \"/>\n",
       "<polyline clip-path=\"url(#clip982)\" style=\"stroke:#000000; stroke-linecap:round; stroke-linejoin:round; stroke-width:2; stroke-opacity:0.1; fill:none\" points=\"141.853,697.843 2352.76,697.843 \"/>\n",
       "<polyline clip-path=\"url(#clip982)\" style=\"stroke:#000000; stroke-linecap:round; stroke-linejoin:round; stroke-width:2; stroke-opacity:0.1; fill:none\" points=\"141.853,303.541 2352.76,303.541 \"/>\n",
       "<polyline clip-path=\"url(#clip980)\" style=\"stroke:#000000; stroke-linecap:round; stroke-linejoin:round; stroke-width:4; stroke-opacity:1; fill:none\" points=\"141.853,1486.45 141.853,47.2441 \"/>\n",
       "<polyline clip-path=\"url(#clip980)\" style=\"stroke:#000000; stroke-linecap:round; stroke-linejoin:round; stroke-width:4; stroke-opacity:1; fill:none\" points=\"141.853,1486.45 160.751,1486.45 \"/>\n",
       "<polyline clip-path=\"url(#clip980)\" style=\"stroke:#000000; stroke-linecap:round; stroke-linejoin:round; stroke-width:4; stroke-opacity:1; fill:none\" points=\"141.853,1092.15 160.751,1092.15 \"/>\n",
       "<polyline clip-path=\"url(#clip980)\" style=\"stroke:#000000; stroke-linecap:round; stroke-linejoin:round; stroke-width:4; stroke-opacity:1; fill:none\" points=\"141.853,697.843 160.751,697.843 \"/>\n",
       "<polyline clip-path=\"url(#clip980)\" style=\"stroke:#000000; stroke-linecap:round; stroke-linejoin:round; stroke-width:4; stroke-opacity:1; fill:none\" points=\"141.853,303.541 160.751,303.541 \"/>\n",
       "<path clip-path=\"url(#clip980)\" d=\"M93.9086 1472.25 Q90.2975 1472.25 88.4688 1475.81 Q86.6632 1479.35 86.6632 1486.48 Q86.6632 1493.59 88.4688 1497.15 Q90.2975 1500.7 93.9086 1500.7 Q97.5428 1500.7 99.3483 1497.15 Q101.177 1493.59 101.177 1486.48 Q101.177 1479.35 99.3483 1475.81 Q97.5428 1472.25 93.9086 1472.25 M93.9086 1468.54 Q99.7187 1468.54 102.774 1473.15 Q105.853 1477.73 105.853 1486.48 Q105.853 1495.21 102.774 1499.82 Q99.7187 1504.4 93.9086 1504.4 Q88.0984 1504.4 85.0197 1499.82 Q81.9642 1495.21 81.9642 1486.48 Q81.9642 1477.73 85.0197 1473.15 Q88.0984 1468.54 93.9086 1468.54 Z\" fill=\"#000000\" fill-rule=\"nonzero\" fill-opacity=\"1\" /><path clip-path=\"url(#clip980)\" d=\"M57.7745 1105.49 L74.0939 1105.49 L74.0939 1109.43 L52.1495 1109.43 L52.1495 1105.49 Q54.8115 1102.74 59.3949 1098.11 Q64.0013 1093.45 65.1819 1092.11 Q67.4272 1089.59 68.3068 1087.85 Q69.2096 1086.09 69.2096 1084.4 Q69.2096 1081.65 67.2652 1079.91 Q65.3439 1078.18 62.2421 1078.18 Q60.043 1078.18 57.5893 1078.94 Q55.1588 1079.7 52.381 1081.25 L52.381 1076.53 Q55.2051 1075.4 57.6588 1074.82 Q60.1124 1074.24 62.1495 1074.24 Q67.5198 1074.24 70.7142 1076.93 Q73.9087 1079.61 73.9087 1084.1 Q73.9087 1086.23 73.0985 1088.15 Q72.3115 1090.05 70.205 1092.64 Q69.6263 1093.31 66.5245 1096.53 Q63.4226 1099.73 57.7745 1105.49 Z\" fill=\"#000000\" fill-rule=\"nonzero\" fill-opacity=\"1\" /><path clip-path=\"url(#clip980)\" d=\"M93.9086 1077.94 Q90.2975 1077.94 88.4688 1081.51 Q86.6632 1085.05 86.6632 1092.18 Q86.6632 1099.29 88.4688 1102.85 Q90.2975 1106.39 93.9086 1106.39 Q97.5428 1106.39 99.3483 1102.85 Q101.177 1099.29 101.177 1092.18 Q101.177 1085.05 99.3483 1081.51 Q97.5428 1077.94 93.9086 1077.94 M93.9086 1074.24 Q99.7187 1074.24 102.774 1078.85 Q105.853 1083.43 105.853 1092.18 Q105.853 1100.91 102.774 1105.51 Q99.7187 1110.1 93.9086 1110.1 Q88.0984 1110.1 85.0197 1105.51 Q81.9642 1100.91 81.9642 1092.18 Q81.9642 1083.43 85.0197 1078.85 Q88.0984 1074.24 93.9086 1074.24 Z\" fill=\"#000000\" fill-rule=\"nonzero\" fill-opacity=\"1\" /><path clip-path=\"url(#clip980)\" d=\"M66.5939 684.637 L54.7884 703.086 L66.5939 703.086 L66.5939 684.637 M65.367 680.563 L71.2466 680.563 L71.2466 703.086 L76.1772 703.086 L76.1772 706.975 L71.2466 706.975 L71.2466 715.123 L66.5939 715.123 L66.5939 706.975 L50.9921 706.975 L50.9921 702.461 L65.367 680.563 Z\" fill=\"#000000\" fill-rule=\"nonzero\" fill-opacity=\"1\" /><path clip-path=\"url(#clip980)\" d=\"M93.9086 683.642 Q90.2975 683.642 88.4688 687.207 Q86.6632 690.748 86.6632 697.878 Q86.6632 704.984 88.4688 708.549 Q90.2975 712.091 93.9086 712.091 Q97.5428 712.091 99.3483 708.549 Q101.177 704.984 101.177 697.878 Q101.177 690.748 99.3483 687.207 Q97.5428 683.642 93.9086 683.642 M93.9086 679.938 Q99.7187 679.938 102.774 684.545 Q105.853 689.128 105.853 697.878 Q105.853 706.605 102.774 711.211 Q99.7187 715.794 93.9086 715.794 Q88.0984 715.794 85.0197 711.211 Q81.9642 706.605 81.9642 697.878 Q81.9642 689.128 85.0197 684.545 Q88.0984 679.938 93.9086 679.938 Z\" fill=\"#000000\" fill-rule=\"nonzero\" fill-opacity=\"1\" /><path clip-path=\"url(#clip980)\" d=\"M64.3254 301.677 Q61.1773 301.677 59.3254 303.83 Q57.4967 305.983 57.4967 309.733 Q57.4967 313.46 59.3254 315.636 Q61.1773 317.788 64.3254 317.788 Q67.4735 317.788 69.3022 315.636 Q71.1541 313.46 71.1541 309.733 Q71.1541 305.983 69.3022 303.83 Q67.4735 301.677 64.3254 301.677 M73.6077 287.025 L73.6077 291.284 Q71.8485 290.45 70.0429 290.011 Q68.2606 289.571 66.5013 289.571 Q61.8717 289.571 59.418 292.696 Q56.9875 295.821 56.6402 302.14 Q58.006 300.126 60.0662 299.062 Q62.1263 297.974 64.6032 297.974 Q69.8115 297.974 72.8207 301.145 Q75.8531 304.293 75.8531 309.733 Q75.8531 315.057 72.705 318.274 Q69.5568 321.492 64.3254 321.492 Q58.33 321.492 55.1588 316.909 Q51.9875 312.302 51.9875 303.575 Q51.9875 295.381 55.8764 290.52 Q59.7652 285.636 66.3161 285.636 Q68.0754 285.636 69.8578 285.983 Q71.6633 286.33 73.6077 287.025 Z\" fill=\"#000000\" fill-rule=\"nonzero\" fill-opacity=\"1\" /><path clip-path=\"url(#clip980)\" d=\"M93.9086 289.339 Q90.2975 289.339 88.4688 292.904 Q86.6632 296.446 86.6632 303.575 Q86.6632 310.682 88.4688 314.247 Q90.2975 317.788 93.9086 317.788 Q97.5428 317.788 99.3483 314.247 Q101.177 310.682 101.177 303.575 Q101.177 296.446 99.3483 292.904 Q97.5428 289.339 93.9086 289.339 M93.9086 285.636 Q99.7187 285.636 102.774 290.242 Q105.853 294.825 105.853 303.575 Q105.853 312.302 102.774 316.909 Q99.7187 321.492 93.9086 321.492 Q88.0984 321.492 85.0197 316.909 Q81.9642 312.302 81.9642 303.575 Q81.9642 294.825 85.0197 290.242 Q88.0984 285.636 93.9086 285.636 Z\" fill=\"#000000\" fill-rule=\"nonzero\" fill-opacity=\"1\" /><path clip-path=\"url(#clip982)\" d=\"M263.457 1044.83 L263.457 1486.45 L798.364 1486.45 L798.364 1044.83 L263.457 1044.83 L263.457 1044.83  Z\" fill=\"#009af9\" fill-rule=\"evenodd\" fill-opacity=\"1\"/>\n",
       "<polyline clip-path=\"url(#clip982)\" style=\"stroke:#000000; stroke-linecap:round; stroke-linejoin:round; stroke-width:4; stroke-opacity:1; fill:none\" points=\"263.457,1044.83 263.457,1486.45 798.364,1486.45 798.364,1044.83 263.457,1044.83 \"/>\n",
       "<path clip-path=\"url(#clip982)\" d=\"M932.091 695.872 L932.091 1486.45 L1467 1486.45 L1467 695.872 L932.091 695.872 L932.091 695.872  Z\" fill=\"#009af9\" fill-rule=\"evenodd\" fill-opacity=\"1\"/>\n",
       "<polyline clip-path=\"url(#clip982)\" style=\"stroke:#000000; stroke-linecap:round; stroke-linejoin:round; stroke-width:4; stroke-opacity:1; fill:none\" points=\"932.091,695.872 932.091,1486.45 1467,1486.45 1467,695.872 932.091,695.872 \"/>\n",
       "<path clip-path=\"url(#clip982)\" d=\"M1696.24 47.2441 L1696.24 1486.45 L2231.15 1486.45 L2231.15 47.2441 L1696.24 47.2441 L1696.24 47.2441  Z\" fill=\"#009af9\" fill-rule=\"evenodd\" fill-opacity=\"1\"/>\n",
       "<polyline clip-path=\"url(#clip982)\" style=\"stroke:#000000; stroke-linecap:round; stroke-linejoin:round; stroke-width:4; stroke-opacity:1; fill:none\" points=\"1696.24,47.2441 1696.24,1486.45 2231.15,1486.45 2231.15,47.2441 1696.24,47.2441 \"/>\n",
       "<circle clip-path=\"url(#clip982)\" style=\"fill:#009af9; stroke:none; fill-opacity:0\" cx=\"530.91\" cy=\"1044.83\" r=\"2\"/>\n",
       "<circle clip-path=\"url(#clip982)\" style=\"fill:#009af9; stroke:none; fill-opacity:0\" cx=\"1199.54\" cy=\"695.872\" r=\"2\"/>\n",
       "<circle clip-path=\"url(#clip982)\" style=\"fill:#009af9; stroke:none; fill-opacity:0\" cx=\"1963.7\" cy=\"47.2441\" r=\"2\"/>\n",
       "<path clip-path=\"url(#clip980)\" d=\"M215.55 198.898 L489.07 198.898 L489.07 95.2176 L215.55 95.2176  Z\" fill=\"#ffffff\" fill-rule=\"evenodd\" fill-opacity=\"1\"/>\n",
       "<polyline clip-path=\"url(#clip980)\" style=\"stroke:#000000; stroke-linecap:round; stroke-linejoin:round; stroke-width:4; stroke-opacity:1; fill:none\" points=\"215.55,198.898 489.07,198.898 489.07,95.2176 215.55,95.2176 215.55,198.898 \"/>\n",
       "<path clip-path=\"url(#clip980)\" d=\"M240.115 167.794 L387.509 167.794 L387.509 126.322 L240.115 126.322 L240.115 167.794  Z\" fill=\"#009af9\" fill-rule=\"evenodd\" fill-opacity=\"1\"/>\n",
       "<polyline clip-path=\"url(#clip980)\" style=\"stroke:#000000; stroke-linecap:round; stroke-linejoin:round; stroke-width:4; stroke-opacity:1; fill:none\" points=\"240.115,167.794 387.509,167.794 387.509,126.322 240.115,126.322 240.115,167.794 \"/>\n",
       "<path clip-path=\"url(#clip980)\" d=\"M425.917 166.745 Q424.111 171.375 422.398 172.787 Q420.685 174.199 417.815 174.199 L414.412 174.199 L414.412 170.634 L416.912 170.634 Q418.672 170.634 419.644 169.8 Q420.616 168.967 421.797 165.865 L422.56 163.921 L412.074 138.412 L416.588 138.412 L424.69 158.689 L432.792 138.412 L437.306 138.412 L425.917 166.745 Z\" fill=\"#000000\" fill-rule=\"nonzero\" fill-opacity=\"1\" /><path clip-path=\"url(#clip980)\" d=\"M444.597 160.402 L452.236 160.402 L452.236 134.037 L443.926 135.703 L443.926 131.444 L452.19 129.778 L456.866 129.778 L456.866 160.402 L464.505 160.402 L464.505 164.338 L444.597 164.338 L444.597 160.402 Z\" fill=\"#000000\" fill-rule=\"nonzero\" fill-opacity=\"1\" /></svg>\n"
      ]
     },
     "execution_count": 65,
     "metadata": {},
     "output_type": "execute_result"
    }
   ],
   "source": [
    "Plots.bar(mcs.key,mcs.value)"
   ]
  },
  {
   "cell_type": "code",
   "execution_count": null,
   "id": "c357d486-646c-4b05-b773-6fd9e543b567",
   "metadata": {},
   "outputs": [],
   "source": []
  }
 ],
 "metadata": {
  "kernelspec": {
   "display_name": "Julia 1.9.3",
   "language": "julia",
   "name": "julia-1.9"
  },
  "language_info": {
   "file_extension": ".jl",
   "mimetype": "application/julia",
   "name": "julia",
   "version": "1.10.0"
  }
 },
 "nbformat": 4,
 "nbformat_minor": 5
}
