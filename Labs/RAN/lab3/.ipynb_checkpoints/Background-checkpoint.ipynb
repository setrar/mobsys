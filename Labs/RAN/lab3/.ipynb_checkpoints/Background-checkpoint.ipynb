{
 "cells": [
  {
   "cell_type": "markdown",
   "id": "09ac7b03-f005-4c62-81e0-91cd1750c802",
   "metadata": {},
   "source": [
    "## 2 Background"
   ]
  },
  {
   "cell_type": "markdown",
   "id": "57f3d222-b3f1-4dc6-bfba-b417690e976d",
   "metadata": {},
   "source": [
    "For doing this lab you need to be familiar with the following two concepts: \n",
    "\n",
    "1. ResourceGrid\n",
    "1. Modulation and Coding Scheme(MCS)"
   ]
  },
  {
   "cell_type": "markdown",
   "id": "f14c9fff-8f61-4078-be6e-6ec51ff7f31d",
   "metadata": {},
   "source": [
    "#### 2.1 Resource Grid"
   ]
  },
  {
   "cell_type": "markdown",
   "id": "139909e1-acd9-48da-8184-120e79f091c4",
   "metadata": {},
   "source": [
    "\n",
    "Imagine a table where its rows are units in frequency domain and its columns are units in time domain. In this table, each unit in frequency is equivalent to one subcarrier (defined by the subcarrier spacing) and each unit in time is one OFDM symbol. Each cell in this table is called a Resource Element (RE), and this table is called a Resource Grid. The resource grid is normally presented for one subframe in the time domain and the whole bandwidth of the corresponding bandwidth part in the frequency domain. 12 consecutive REs in the frequency domain is called a Resource Block (RB). Hence, the table 1 shows the RB size in kHz for different subcarrier spacings.\n",
    "\n",
    "| Subcarrier Spacing (kHz) | RB Size (kHz) |\n",
    "|------|-------|\n",
    "| 15   | 180   |\n",
    "| 30   | 360   |\n",
    "| 60   | 720   |\n",
    "| 120  | 1440  |\n",
    "| 240  | 2880  |\n",
    "| 480  | 5760  |\n",
    "| 960  | 11520 |\n",
    "$ \\text{ Table 1: RB Size for Different Subcarrier Spacings } $"
   ]
  },
  {
   "cell_type": "markdown",
   "id": "8eefd7d6-cdd7-4473-a270-0753d64bfe3c",
   "metadata": {},
   "source": [
    "3GPP defines the minium guard band from the total channel bandwidth to get the transmission bandwidth as given in the table 2. If the value of the guard band for a subcarrier spacing $\\Delta$ and bandwidth $B$ is presented by the function $g(\\Delta, B )$, then the number of REs per each symbol in the time domain is given by the equation $(1)$ and the number of RBs per symbol is given by the equation $(2)$.\n",
    "\n",
    "$$\n",
    "\\begin{split}\n",
    "N_{RE} =\\frac{B−2g(∆,B)}{∆} \\qquad \\qquad \\qquad \\qquad (1) \n",
    "\\\\\n",
    "\\\\\n",
    "N_{RB} =⌊ \\frac{n_{RE}}{12} ⌋  \\qquad \\qquad \\qquad \\qquad (2)\n",
    "\\end{split}\n",
    "$$\n",
    "\n",
    "From here to calculate the number of RBs per frame, we should multiply the number of RBs per symbol by the number of symbols per frame, calculated by the equation 3.\n",
    "\n",
    "$$N_{Sym} =14×10×2^μ \\qquad \\qquad \\qquad \\qquad (3)$$\n"
   ]
  },
  {
   "cell_type": "markdown",
   "id": "b7427e3d-4911-4d74-84c2-aec885d5b015",
   "metadata": {},
   "source": [
    "Let us have an example:\n",
    "\n",
    "\n",
    "| Bandwidth | SCS 15 KHz |\n",
    "|----------:|-----------:|\n",
    "| 5MHz      |      242.5 |\n",
    "| 10 MHz    |      312.5 | \n",
    "| 15 MHz    |      382.5 |\n",
    "| 20 MHz    |      452.5 |\n",
    "| 25 MHz    |      522.5 |\n",
    "| 30 MHz    |      592.5 |\n",
    "| 40 MHz    |      552.5 |\n",
    "| 50 MHz    |      692.5 |\n",
    "| 60 MHz    |        N/A |\n",
    "| 70 MHz    |        N/A |\n",
    "| 80 MHz    |        N/A |\n",
    "| 90 MHz    |        N/A |\n",
    "| 100 MHz   |        N/A |\n",
    "\n",
    "SCS 30 kHz 505 665 645 805 785 945 905 1045 825 965 925 885 845\n",
    "SCS 60 kHz N/A 1010 990 1330 1310 1290 1610 1570 1530 1490 1450 1410 1370\n",
    "$$ \\text{ Table 2: Guard band values in kHz for different bandwidths and subcarrier spacings (presented only for FR1) } $$\n",
    "\n",
    "- Subcarrier spacing: 30kHz\n",
    "- Number of OFDM symbols: 14 \n",
    "- Bandwidth: 40 MHz\n",
    "\n",
    "Given the equation 1, we can calculate the number of REs per symbol as follows:\n",
    "$$\n",
    "N_{RE} = \\frac{40000 − 2 × 905}{30} = 1273\n",
    "$$\n",
    "And given the equation 2, we can calculate the number of RBs per symbol as follows:\n",
    "$$\n",
    "N_{RB} =⌊ \\frac{1273}{12} ⌋ = 106\n",
    "$$\n",
    "\n",
    "Finally, given the equation 3, we can calculate the number of RBs per frame as follows:\n",
    "$$\n",
    "N_{RB} = 106 × 14 × 10 × 21 = 29680\n",
    "$$"
   ]
  },
  {
   "cell_type": "markdown",
   "id": "f49dd036-eb7e-40f0-a1be-9c0dabf3bb0a",
   "metadata": {},
   "source": [
    "As of my last knowledge update in January 2022, the term \"F1 Split architecture\" is associated with the OpenAirInterface (OAI) project, which is an open-source implementation of the 3rd Generation Partnership Project (3GPP) standards for mobile communication systems, including LTE and 5G.\n",
    "\n",
    "The \"F1 Split\" architecture in the context of OAI typically refers to the functional split between the Central Unit (CU) and the Distributed Unit (DU) in a 5G New Radio (NR) network. The F1 interface connects the CU and DU, enabling the distribution of processing tasks in the network. This split architecture enhances the flexibility and scalability of the network.\n",
    "\n",
    "Here is a brief overview of the functional split:\n",
    "\n",
    "1. **Central Unit (CU):** The CU is responsible for higher-layer functions, such as radio resource management, connection setup, and control plane signaling.\n",
    "\n",
    "2. **Distributed Unit (DU):** The DU is responsible for lower-layer functions, including physical layer processing, modulation, and demodulation.\n",
    "\n",
    "The F1 interface connects the CU and DU, allowing for distributed processing and improved resource utilization.\n",
    "\n",
    "Keep in mind that developments in the OAI project or the telecommunications industry may have occurred after my last update. For the latest and most accurate information, please refer to the official OAI documentation, community forums, or other relevant sources associated with the project."
   ]
  },
  {
   "cell_type": "markdown",
   "id": "399b8dc5-c58a-4de1-989e-ef5b081f10df",
   "metadata": {},
   "source": [
    "#### 2.2 Modulation and Coding Scheme (MCS)"
   ]
  },
  {
   "cell_type": "markdown",
   "id": "640eb184-16cf-4a36-8dd5-3762751324b8",
   "metadata": {},
   "source": [
    "The MCS is a value between 0 and 31 (5 bits) that is used to determine the modulation and coding scheme for a transport block. The MCS values could come from one of the three tables in the 3GPP standard. [(1)](https://www.sharetechnote.com/html/5G/5G_MCS_TBS_CodeRate.html) The Modulation Order $(Qm)$ comes from which modulation scheme is used for the transport block as shown in the table 3.\n",
    "\n",
    "| Modulation | Qm | \n",
    "|-|-|\n",
    "| QPSK  | 2 |\n",
    "| 16QAM | 4 |\n",
    "| 64QAM | 6 |\n",
    "| 256QAM | 8 |\n",
    "$$ \\text{ Table 3: Modulation Order } $$\n",
    "\n",
    "Each of the indices then is translated to a $Qm$ value and a target coding rate $R$ which are used to calculate the number of bits that can be transmitted in one resource element. Calculating the Transport Block Size (TBS) is very complicated and is not in the scope of this lab, but figure 1 from [2](https://www.techplayon.com/5g-nr-transport-block-size-tbs-calculation/) shows how it is generally calculated.\n",
    "\n",
    "| | \n",
    "|-|\n",
    "| <img src=images/lab3-TBS.png width='' height='' > </img> |\n",
    "$$\\text{ Figure 1: Transport Block Size (TBS) Calculation} $$"
   ]
  },
  {
   "cell_type": "markdown",
   "id": "50ae82a5-582c-4a02-a0b0-3cc77b3b0bd7",
   "metadata": {},
   "source": [
    "## Definitions"
   ]
  },
  {
   "cell_type": "markdown",
   "id": "5bfa64dd-8c06-436a-8ca2-81dc8978a8ba",
   "metadata": {},
   "source": [
    "##### `eMBB` stands for `enhanced Mobile Broadband,` and it is one of the three primary usage scenarios defined by the 3rd Generation Partnership Project (3GPP) for 5G (fifth-generation) wireless communication systems. The three main usage scenarios are:\n",
    "\n",
    "1. **eMBB (Enhanced Mobile Broadband):** This scenario focuses on delivering higher data rates, increased capacity, and improved user experience for applications that require enhanced mobile broadband services. Examples of eMBB use cases include high-definition video streaming, virtual reality (VR), augmented reality (AR), and other data-intensive applications.\n",
    "\n",
    "2. **mMTC (massive Machine Type Communications):** mMTC addresses the massive connectivity requirements of the Internet of Things (IoT) by supporting a large number of devices with diverse communication needs. Applications include smart cities, industrial automation, and various IoT deployments.\n",
    "\n",
    "3. **URLLC (Ultra-Reliable Low Latency Communications):** URLLC is designed to provide ultra-reliable and low-latency communication services for applications that demand extremely low latency and high reliability. Examples include mission-critical communication systems, industrial automation with real-time control, and vehicle-to-everything (V2X) communication for autonomous vehicles.\n",
    "\n",
    "eMBB is particularly relevant for delivering high-speed, broadband-like experiences to mobile users and enabling new applications that require significant bandwidth. It aims to provide peak data rates well beyond what is achievable with existing 4G LTE networks.\n",
    "\n",
    "The introduction of 5G technology brings advancements such as higher frequency bands, wider bandwidth, advanced modulation schemes, and massive MIMO (Multiple Input, Multiple Output) technology to support the eMBB use case and meet the growing demand for high-speed data services."
   ]
  },
  {
   "cell_type": "markdown",
   "id": "c1b3ef8a-1ff7-4bb5-b674-c03c92831a01",
   "metadata": {},
   "source": [
    "##### `MCS` typically refers to `Modulation and Coding Scheme.` The MCS is a set of parameters used to describe how data is modulated, encoded, and transmitted over a wireless channel. Measurement of MCS is crucial for assessing the quality and efficiency of the communication link.\n",
    "\n",
    "Here's a brief overview of the key aspects related to MCS measurement:\n",
    "\n",
    "1. **Modulation Scheme:** MCS includes information about the modulation scheme applied to the transmitted data. Different modulation schemes involve varying levels of complexity and provide different trade-offs between data rate and sensitivity to noise. Common modulation schemes include QPSK (Quadrature Phase Shift Keying), 16-QAM (Quadrature Amplitude Modulation), and 64-QAM.\n",
    "\n",
    "2. **Coding Rate:** Coding rate, also known as the channel coding rate, is another component of MCS. It represents the ratio of the number of information bits to the total number of bits transmitted. Higher coding rates provide more robust error correction but typically at the expense of lower data rates.\n",
    "\n",
    "3. **Data Rate:** The combination of modulation scheme and coding rate determines the achievable data rate for a given communication link. Higher MCS values generally correspond to higher data rates.\n",
    "\n",
    "MCS measurement is often performed by the communication system or network to adapt to changing channel conditions. In wireless networks like Wi-Fi, LTE, or 5G, devices continuously assess the quality of the communication link and dynamically adjust the MCS to optimize performance based on factors such as signal strength, interference, and noise.\n",
    "\n",
    "In summary, MCS measurement is a dynamic process that involves evaluating and adapting the modulation and coding scheme to optimize data transmission over a wireless channel, considering the trade-offs between data rate and reliability. The specific mechanisms for MCS measurement may vary depending on the wireless technology and the standard being used."
   ]
  },
  {
   "cell_type": "markdown",
   "id": "154b9dd1-6436-42ba-bd5d-47e4df67d16d",
   "metadata": {},
   "source": [
    "calculate TBS and PRB per frame, you should subtract the value of the previous frame from the value of the current frame. "
   ]
  }
 ],
 "metadata": {
  "kernelspec": {
   "display_name": "Julia 1.9.3",
   "language": "julia",
   "name": "julia-1.9"
  },
  "language_info": {
   "file_extension": ".jl",
   "mimetype": "application/julia",
   "name": "julia",
   "version": "1.9.4"
  }
 },
 "nbformat": 4,
 "nbformat_minor": 5
}
