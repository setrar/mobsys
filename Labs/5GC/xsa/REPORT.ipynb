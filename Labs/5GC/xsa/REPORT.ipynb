{
 "cells": [
  {
   "cell_type": "markdown",
   "id": "9b4d8541-581b-42b8-ada9-f9b355d237ae",
   "metadata": {},
   "source": [
    "# LAB: 5G NSA and SA trace analysis"
   ]
  },
  {
   "cell_type": "markdown",
   "id": "d32118b3-e03f-4142-826c-bf8c629355ee",
   "metadata": {},
   "source": [
    "In this lab, you will consolidate the concepts seen in the 5G lecture by analyzing 5G NSA and SA traces."
   ]
  },
  {
   "cell_type": "markdown",
   "id": "f94e0602-0c47-4103-bd27-1efd60fe94a4",
   "metadata": {},
   "source": [
    "### 1. Lab warmup"
   ]
  },
  {
   "cell_type": "markdown",
   "id": "216c4434-1654-4801-80cd-8db389f859a4",
   "metadata": {},
   "source": [
    "To run this lab, you need Wireshark. To recall, the made available VM includes Wireshark. All the traces of 5G-NSA and 5G-SA are available in Moodle."
   ]
  },
  {
   "cell_type": "markdown",
   "id": "69e95e15-849d-4506-ac91-ec1bad6e592c",
   "metadata": {},
   "source": [
    "### 2. 5G NSA"
   ]
  },
  {
   "cell_type": "markdown",
   "id": "fce94176-94e8-4f35-bbe2-9e31c48d7f82",
   "metadata": {},
   "source": [
    "Open the file “eNB.pcapng” and “gNB.pcapng”. Locate in the files the messages related to the addition of the 5G base station as a Slave.\n"
   ]
  },
  {
   "cell_type": "markdown",
   "id": "ffca2f9f-c6f4-4c3a-8703-b5c2e90e5135",
   "metadata": {},
   "source": [
    "- Which filter can you use?"
   ]
  },
  {
   "cell_type": "markdown",
   "id": "3d56be60-2e98-4491-9c6b-3e201b9192b2",
   "metadata": {},
   "source": [
    "Below are the various protocols used in 5G and related technologies: (and found in the pcap file)\n",
    "\n",
    "1. **X2AP (X2 Application Protocol):** Used for communication between different eNBs (Evolved NodeB) in the same or different PLMNs (Public Land Mobile Networks) in 3GPP (3rd Generation Partnership Project) networks.\n",
    "\n",
    "2. **GTP (GPRS Tunneling Protocol):** Used for transmitting user data and signaling messages on the GPRS (General Packet Radio Service) and UMTS (Universal Mobile Telecommunications System) networks. It is also used in LTE (Long-Term Evolution) and 5G for packet-switched communication.\n",
    "\n",
    "3. **S1AP (S1 Application Protocol):** Used for communication between the eNB (Evolved NodeB) and the EPC (Evolved Packet Core) in LTE and 5G networks. It manages functions such as handovers and mobility management.\n",
    "\n",
    "4. **S1AP/NAS-EPS:** Represents the interaction between the S1 Application Protocol and NAS (Non-Access Stratum) protocol related to EPS (Evolved Packet System) in LTE and 5G networks. NAS manages signaling between the UE (User Equipment) and the EPC.\n",
    "\n",
    "5. **SCTP (Stream Control Transmission Protocol):** A transport layer protocol used for establishing and managing associations between networked devices. It is commonly used in signaling protocols like SIGTRAN (Signaling Transport) and is utilized in various 3GPP protocols.\n",
    "\n"
   ]
  },
  {
   "cell_type": "markdown",
   "id": "abe126bd-ea3f-4b9c-be7b-5bdc3943fca4",
   "metadata": {},
   "source": [
    "In the context of 5G and LTE (Long-Term Evolution) networks, the term \"E-RAB\" stands for \"E-UTRAN (Evolved Universal Terrestrial Radio Access Network) Radio Access Bearer.\" Let's break down this term:\n",
    "\n",
    "1. **E-RAB (E-UTRAN Radio Access Bearer):** An E-RAB represents a communication channel or bearer that is established between the UE (User Equipment) and the E-UTRAN (Evolved Universal Terrestrial Radio Access Network). It is used to facilitate the transmission of user data and signaling information between the UE and the EPC (Evolved Packet Core).\n",
    "\n",
    "   - **E-UTRAN:** The radio access network component of the LTE and 5G networks, responsible for wireless communication between the mobile device (UE) and the core network.\n",
    "\n",
    "   - **Bearer:** A communication channel with specific characteristics, such as quality of service (QoS) parameters, used for transmitting data between the UE and the network.\n",
    "\n",
    "When a user establishes a connection to a 5G or LTE network, one or more E-RABs are established to support the transmission of data for various services (e.g., voice, video, or data services). The establishment, modification, and release of E-RABs are managed through signaling procedures, and the E-RABs play a crucial role in providing the necessary connectivity and service quality for the user's communication needs."
   ]
  },
  {
   "cell_type": "markdown",
   "id": "e3250e5c-9724-4167-a5da-7503ca409f68",
   "metadata": {},
   "source": [
    "- Deduce the IP addresses of the gNB, eNB, MME?"
   ]
  },
  {
   "cell_type": "markdown",
   "id": "53afa54e-c789-4c61-9fb3-ace105efb949",
   "metadata": {},
   "source": [
    "| Components | IP |\n",
    "|-|-|\n",
    "| gNB | `192.168.12.207` |\n",
    "| eNB | `192.168.12.196` |\n",
    "| MME | `192.168.12.148` |\n"
   ]
  },
  {
   "cell_type": "markdown",
   "id": "04c4cb0b-d16c-4475-85af-90bf5fbd5772",
   "metadata": {},
   "source": [
    "- Fill the following table:"
   ]
  },
  {
   "cell_type": "markdown",
   "id": "56df0270-38e6-463b-bd9d-2240b5f64a92",
   "metadata": {},
   "source": [
    "| Message description | Trace file (gNB or eNB) | Message (frame) number |  Message name |\n",
    "|-|-|-|-|\n",
    "| The MeNB requests the addition of the SgNB | `eNB` | `99` | `SgNBAdditionRequest[Malformed Packet]` |\n",
    "| S1 Bearer modification request | `eNB` | `121` | `E-RABModificationIndication` |\n",
    "| DL traffic starts to be received by the SgNB | `gNB` | `108` | `SgNBReconfigurationComplete` |\n",
    "| End marker packet for the EPC to MeNB | `eNB` | `122`\t| `End Marker` |\n",
    "| UL traffic starts to be sent via the SgNB | `gNB` | `24` | `Standard query 0x06f1 A www.google.com` |"
   ]
  },
  {
   "cell_type": "markdown",
   "id": "f494b5e2-cf0f-4447-b2c8-65b207b78358",
   "metadata": {},
   "source": [
    "### 3. Part: 5G SA"
   ]
  },
  {
   "cell_type": "markdown",
   "id": "7a88dc1c-264e-4fb3-be20-2a743eb8acc8",
   "metadata": {},
   "source": [
    "##### Open the file “5G-without-AUSF.pcap”"
   ]
  },
  {
   "cell_type": "markdown",
   "id": "765b70ca-7df2-4e57-ad46-f1c775df8fd5",
   "metadata": {},
   "source": [
    "- Deduce the IP addresses of gNB, AMF, SMF, and UPF?"
   ]
  },
  {
   "cell_type": "code",
   "execution_count": null,
   "id": "25bb4855-4dd0-4255-9317-c3097e55de51",
   "metadata": {},
   "outputs": [],
   "source": []
  },
  {
   "cell_type": "markdown",
   "id": "ab26adc8-f81f-470b-99f9-4bc038429271",
   "metadata": {},
   "source": [
    "- What is the value of SUCI? Which message includes this information? Can we deduce the IMSI value?"
   ]
  },
  {
   "cell_type": "markdown",
   "id": "bf4d2a9d-996b-4045-9343-f10abe172766",
   "metadata": {},
   "source": [
    "<img src=images/SUCI.png width='50%' height='50%' > </img>"
   ]
  },
  {
   "cell_type": "markdown",
   "id": "2f62ca92-2a92-4b02-876d-e6cc4f590dab",
   "metadata": {},
   "source": [
    "> SUCI: 208-95-0-0000-0-0000000031\n",
    "> \n",
    "> Message: `InitialUEMessage, Registration request`\n",
    "> \n",
    "> IMSI: 208950000000031"
   ]
  },
  {
   "cell_type": "markdown",
   "id": "9a8fe29b-fb97-4bcd-904b-f113a76ed405",
   "metadata": {},
   "source": [
    "- What is the equivalent protocol of S1AP in 5G? What are the entities using this protocol to communicate?"
   ]
  },
  {
   "cell_type": "markdown",
   "id": "061c049b-c68f-48df-b6ae-f5b344050a99",
   "metadata": {},
   "source": [
    "> NGAP "
   ]
  },
  {
   "cell_type": "markdown",
   "id": "4f4f1c98-32cd-496c-bb0b-9f3be4b6dc63",
   "metadata": {},
   "source": [
    "The Next Generation Application Protocol (NGAP) is a protocol used in the 5G architecture for communication between various network entities. NGAP is a part of the 5G System (5GS) and is used for the control plane communication between the Next Generation NodeB (gNB) and the Access and Mobility Management Function (AMF). Here are the main network entities that use NGAP for communication:\n",
    "\n",
    "1. **gNB (Next Generation NodeB):** The gNB is the radio access network (RAN) node responsible for providing radio connectivity to the User Equipment (UE). It communicates with the core network elements using NGAP.\n",
    "\n",
    "2. **AMF (Access and Mobility Management Function):** The AMF is a core network element responsible for access and mobility management. It plays a key role in the establishment, modification, and release of the UE's connection. NGAP is used for communication between gNB and AMF.\n",
    "\n",
    "3. **SMF (Session Management Function):** The SMF is responsible for managing session-related information and policies. It interacts with the AMF and other network elements. NGAP may be involved in procedures related to session management.\n",
    "\n",
    "4. **UPF (User Plane Function):** The UPF handles user data forwarding and routing in the user plane. While NGAP is primarily a control plane protocol, it may interact with UPF for certain control-plane-related procedures.\n",
    "\n",
    "5. **AUSF (Authentication Server Function):** The AUSF is responsible for authentication and key generation functions. NGAP may be involved in procedures related to authentication and security.\n",
    "\n",
    "6. **NSSF (Network Slice Selection Function):** The NSSF is responsible for selecting and managing network slices. NGAP may be used in procedures related to network slice management.\n",
    "\n",
    "These entities work together to establish and manage connections, handle mobility events, manage sessions, and ensure the overall operation of the 5G network. NGAP provides a standardized protocol for control-plane communication between gNB and various core network functions."
   ]
  },
  {
   "cell_type": "markdown",
   "id": "a406078f-2d60-4db3-9f01-e7f65982ee3f",
   "metadata": {},
   "source": [
    "- What is the security capability of the UE? What is new by report to 4G?"
   ]
  },
  {
   "cell_type": "code",
   "execution_count": null,
   "id": "3567d488-ef74-4909-8290-e2ed92d18ece",
   "metadata": {},
   "outputs": [],
   "source": []
  },
  {
   "cell_type": "markdown",
   "id": "e3a3a97a-69ea-47cd-bd71-45ff27b2c133",
   "metadata": {},
   "source": [
    "- What are the identifiers of the UE at the gNB and AMF?"
   ]
  },
  {
   "cell_type": "code",
   "execution_count": null,
   "id": "372bda11-161a-4ef3-829b-a8916cdd80a1",
   "metadata": {},
   "outputs": [],
   "source": []
  },
  {
   "cell_type": "markdown",
   "id": "b94c25d0-1c73-485a-b7de-34cba96a9694",
   "metadata": {},
   "source": [
    "- What are the values of RAND and AUTN? What are the components of the latter? Why?"
   ]
  },
  {
   "cell_type": "code",
   "execution_count": null,
   "id": "c8dc9b9e-f596-4e64-97e7-0b4b06e576ab",
   "metadata": {},
   "outputs": [],
   "source": []
  },
  {
   "cell_type": "markdown",
   "id": "8d884aae-09c7-4b67-b462-d5b4f9b16c25",
   "metadata": {},
   "source": [
    "#### Locate the first HTTP message (message number 71)"
   ]
  },
  {
   "cell_type": "markdown",
   "id": "dd2c3154-04ec-48e6-97a3-32b7ad1e5b57",
   "metadata": {},
   "source": [
    "- What is the purpose of this message? Does it include a NAS message? If yes, which type: NAS-EM or NAS-SM?"
   ]
  },
  {
   "cell_type": "markdown",
   "id": "8f3f81f5-5f3e-4210-ac14-6209e7c0923c",
   "metadata": {},
   "source": []
  },
  {
   "cell_type": "markdown",
   "id": "b48922a0-e144-43b1-97b0-efcdd7df9ca0",
   "metadata": {},
   "source": [
    "- Do messages 72 and 75 related to message 71? Please elaborate."
   ]
  },
  {
   "cell_type": "markdown",
   "id": "21841ba5-a79e-48c4-9eb4-7b2e89e1f637",
   "metadata": {},
   "source": []
  },
  {
   "cell_type": "markdown",
   "id": "fe03acb9-8f72-4c19-ac74-de0775a4e824",
   "metadata": {},
   "source": [
    "- Message 72 is a PFCP message, including a PDR and FAR, what is their role?"
   ]
  },
  {
   "cell_type": "code",
   "execution_count": null,
   "id": "f7c5034d-b5b1-4f62-b3f8-bf5db5e831b0",
   "metadata": {},
   "outputs": [],
   "source": []
  },
  {
   "cell_type": "markdown",
   "id": "68a75146-b54a-4d65-99e5-af368f1e8ae3",
   "metadata": {},
   "source": [
    "- What is the role of message 77? What is the meaning of two encapsulated messages N1 and N2?"
   ]
  },
  {
   "cell_type": "markdown",
   "id": "5925eeb2-c94c-4539-a077-738270bdd40b",
   "metadata": {},
   "source": []
  },
  {
   "cell_type": "markdown",
   "id": "909be744-4e8e-4750-bffd-11cde6736a0f",
   "metadata": {},
   "source": [
    "- Does message 79 related to message 77? Why?"
   ]
  },
  {
   "cell_type": "markdown",
   "id": "ff09d974-1e7b-4f6a-bbb2-0f547cd82c3c",
   "metadata": {},
   "source": []
  },
  {
   "cell_type": "markdown",
   "id": "33c66d06-e9e9-493a-8e38-04bc37e4431d",
   "metadata": {},
   "source": [
    "- Which component generates message 81? Why?"
   ]
  },
  {
   "cell_type": "markdown",
   "id": "05eb8663-8850-46b8-a4e7-3571cdd07be9",
   "metadata": {},
   "source": []
  },
  {
   "cell_type": "markdown",
   "id": "bc412517-85d6-405d-93cf-894f744061fe",
   "metadata": {},
   "source": [
    "- Does message 83 related to message 81?"
   ]
  },
  {
   "cell_type": "markdown",
   "id": "4900b68d-91c5-484d-8ce1-da27fcf27adb",
   "metadata": {},
   "source": []
  },
  {
   "cell_type": "markdown",
   "id": "431d2a82-d5db-4c1d-b7a2-3feb37303dbc",
   "metadata": {},
   "source": [
    "- In message 84, another PFCP message is sent to UPF? What is its objective? What are the differences in the PDR and FAR compared to message 72?"
   ]
  },
  {
   "cell_type": "code",
   "execution_count": null,
   "id": "f5dca866-7af6-41f1-bb08-a8991a457df8",
   "metadata": {},
   "outputs": [],
   "source": []
  }
 ],
 "metadata": {
  "kernelspec": {
   "display_name": "Julia 1.11.1",
   "language": "julia",
   "name": "julia-1.11"
  },
  "language_info": {
   "file_extension": ".jl",
   "mimetype": "application/julia",
   "name": "julia",
   "version": "1.11.1"
  }
 },
 "nbformat": 4,
 "nbformat_minor": 5
}
