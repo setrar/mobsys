{
 "cells": [
  {
   "cell_type": "markdown",
   "id": "757b70e0-6416-4683-b018-697e2af168e1",
   "metadata": {},
   "source": [
    "# Exam 2023"
   ]
  },
  {
   "cell_type": "markdown",
   "id": "29fb57a5-6604-4813-b9af-618bcb8afce8",
   "metadata": {},
   "source": [
    "##  Part I"
   ]
  },
  {
   "cell_type": "markdown",
   "id": "28b1b23e-24a9-40b1-83a2-237e9e446f62",
   "metadata": {},
   "source": [
    "#### ${\\text{Exercise n°}\\color{Salmon}1}$ (Radio Access Network: Architecture and Physical layer): 6.5 points"
   ]
  },
  {
   "cell_type": "markdown",
   "id": "10306c09-746e-4e0f-ab9c-bc9075c07d72",
   "metadata": {},
   "source": [
    "${\\color{Salmon}1.}$ Why is the 4G system used jointly with the 5G air interface?"
   ]
  },
  {
   "cell_type": "markdown",
   "id": "65acc39f-8fa0-4570-8baa-69a0e73e4c41",
   "metadata": {},
   "source": [
    "The 4G system is used jointly with the 5G air interface to ensure widespread coverage, backward compatibility, and a seamless transition between networks. This approach allows for the rapid deployment of 5G services using existing infrastructure, ensuring continuous connectivity and supporting devices that are not yet 5G-capable, while also providing a cost-effective solution for network operators."
   ]
  },
  {
   "cell_type": "markdown",
   "id": "fb78d73b-aba2-4294-83b6-7c945a80f842",
   "metadata": {},
   "source": [
    "${\\color{Salmon}2.}$ What is the reason for configuring more than one Synchronization Signal Block\n",
    "(SSB)"
   ]
  },
  {
   "cell_type": "markdown",
   "id": "d2b1a604-62ca-46e7-9ecc-1f91f40615e6",
   "metadata": {},
   "source": [
    "Configuring more than one Synchronization Signal Block (SSB) in 5G networks improves coverage, supports beamforming, enhances frequency and time diversity, offers flexibility in network deployment, and ensures compatibility with a wide range of devices. This approach enhances signal detection and network connectivity, especially in challenging environments, and supports both non-standalone and standalone 5G operations."
   ]
  },
  {
   "cell_type": "markdown",
   "id": "2a403d89-6d43-4fa1-a906-95a6eb3284e9",
   "metadata": {},
   "source": [
    "${\\color{Salmon}3.}$ What is the purpose of the Physical Downlink Control Channel (PDCCH)?"
   ]
  },
  {
   "cell_type": "markdown",
   "id": "0864ecec-45a1-43b3-a59c-179c470eb3ab",
   "metadata": {},
   "source": [
    "The purpose of the Physical Downlink Control Channel (PDCCH) in cellular networks is to carry downlink control information (DCI) from the base station to the mobile device. This includes scheduling decisions, resource allocation for user data on the downlink and uplink, and signaling of Hybrid Automatic Repeat Request (HARQ) information for error correction."
   ]
  },
  {
   "cell_type": "markdown",
   "id": "d703c778-c4a8-471c-b3f8-6f8510f4591d",
   "metadata": {},
   "source": [
    "${\\color{Salmon}4.}$ Should it be possible to support lower air-interface latency with a 120 kHz or 30\n",
    "kHz subcarrier spacing and why?"
   ]
  },
  {
   "cell_type": "markdown",
   "id": "f57de117-59e7-4081-a4a8-7e346a0abb07",
   "metadata": {},
   "source": [
    "Yes, supporting lower air-interface latency is possible with a 120 kHz subcarrier spacing compared to 30 kHz due to the shorter transmission time intervals (TTIs) associated with wider subcarrier spacings. A 120 kHz subcarrier spacing allows for faster symbol rates, enabling quicker transmission of data and control information, which is critical for applications requiring low latency."
   ]
  },
  {
   "cell_type": "markdown",
   "id": "2502604b-e568-4f65-a8ae-a3fd15b7071f",
   "metadata": {},
   "source": [
    "${\\color{Salmon}5.}$ What is the main reason for allowing for the possibility of splitting spectrum into\n",
    "so-called \"Bandwidth Parts\"?"
   ]
  },
  {
   "cell_type": "markdown",
   "id": "45e743e2-f3fc-400c-b3c9-519225296c26",
   "metadata": {},
   "source": [
    "The main reason for splitting the spectrum into so-called \"Bandwidth Parts\" (BWPs) is to provide flexibility in radio resource management and to support diverse service requirements efficiently. This approach allows for dynamic adaptation to varying user demands, channel conditions, and service types (e.g., high throughput, low latency) by allocating different portions of the spectrum with potentially different configurations (such as modulation schemes and subcarrier spacings) tailored to specific needs. BWPs enable more efficient utilization of the spectrum and facilitate the coexistence of multiple services with varying quality of service (QoS) requirements within the same frequency band."
   ]
  },
  {
   "cell_type": "markdown",
   "id": "e22bca5d-dbd5-4eec-8399-9afa5e1b87ae",
   "metadata": {},
   "source": [
    "${\\color{Salmon}6.}$ What is the purpose of the F1 interface?"
   ]
  },
  {
   "cell_type": "markdown",
   "id": "530b18b5-351d-40d4-aab9-e57d48aeebc2",
   "metadata": {},
   "source": [
    "The F1 interface in 5G networks connects the gNodeB's (gNB) Central Unit (CU) and Distributed Unit (DU), serving a critical role in the split architecture of 5G networks. Its purpose is to support the flexible deployment of centralized and distributed network functions, enabling efficient data processing and control. The F1 interface facilitates the separation of the control plane (CU-C) and user plane (CU-U) functions from the radio access network, allowing for scalable and adaptable network configurations, optimized resource utilization, and enhanced support for diverse service requirements, including low latency and high bandwidth applications."
   ]
  },
  {
   "cell_type": "markdown",
   "id": "1e13ab5a-09cc-424b-a28e-748f5ca3d70c",
   "metadata": {},
   "source": [
    "#### ${\\text{Exercise n°}\\color{Salmon}2}$ (Radio Access Network : higher layers ): 6.5 points"
   ]
  },
  {
   "cell_type": "markdown",
   "id": "3a1dceda-eaf7-4896-8c54-0b342be21d6f",
   "metadata": {},
   "source": [
    "${\\color{Salmon}1.}$ What are the dimensions when increasing capacity in a cellular system? "
   ]
  },
  {
   "cell_type": "markdown",
   "id": "afdb0498-6c66-4642-8456-29f086d1878f",
   "metadata": {},
   "source": [
    "Increasing capacity in a cellular system can be achieved through frequency reuse, spatial reuse (including cell splitting and sectorization), and improving spectral efficiency. These approaches allow for more efficient use of the available spectrum, better management of interference, and enhancement of data throughput within the same bandwidth."
   ]
  },
  {
   "cell_type": "markdown",
   "id": "a9d293e1-2bc7-47fa-94f6-8ae8cc54de6b",
   "metadata": {},
   "source": [
    "> ${\\color{Salmon}-}$ How does the data rate capacity of a base station increase from 4G to 5G?"
   ]
  },
  {
   "cell_type": "markdown",
   "id": "70d226b0-115c-435d-998a-83d25bea3c14",
   "metadata": {},
   "source": [
    "The data rate capacity of a base station increases from 4G to 5G mainly due to the use of higher frequency bands allowing wider bandwidths, advanced antenna technologies like Massive MIMO for increased efficiency, improved spectral efficiency with more advanced modulation schemes, network densification through small cells, flexible spectrum usage, and network slicing for optimized resource allocation. These advancements enable significantly higher data rates and capacity in 5G networks compared to 4G."
   ]
  },
  {
   "cell_type": "markdown",
   "id": "bdd87e23-84ed-4850-9d04-d00ea41618ed",
   "metadata": {},
   "source": [
    "${\\color{Salmon}2.}$ What are the benefits and drawback of RAN functional split?"
   ]
  },
  {
   "cell_type": "markdown",
   "id": "862bb502-33f9-4848-97d1-37694e2e1328",
   "metadata": {},
   "source": [
    "The RAN functional split offers increased network flexibility, efficient resource utilization, improved performance, support for diverse services, and simplified maintenance. However, it introduces challenges such as increased complexity, potential latency issues, higher initial investments, integration challenges with different vendors, and the need for high-capacity backhaul links. This approach balances enhanced network capabilities against the operational and infrastructural demands it creates."
   ]
  },
  {
   "cell_type": "markdown",
   "id": "ed314703-2af4-4609-9fbc-68a59d76ac5f",
   "metadata": {},
   "source": [
    "> ${\\color{Salmon}-}$ What are the standardized splits, give their names as well as the components/layers involved"
   ]
  },
  {
   "cell_type": "markdown",
   "id": "20297e52-f45b-4598-b7d4-7b1a3ca42571",
   "metadata": {},
   "source": [
    "The standardized RAN functional splits, defined by 3GPP and O-RAN, involve different layers and components of the network:\n",
    "\n",
    "1. **Split 0:** RF and PHY layer separation.\n",
    "2. **Split 1:** Lower and higher PHY layer functions.\n",
    "3. **Split 2:** PHY and MAC layers separation.\n",
    "4. **Split 3:** MAC and RLC layers separation.\n",
    "5. **Split 4:** RLC and PDCP layers separation.\n",
    "6. **Split 5:** PDCP and RRC layers separation.\n",
    "6. **Split 6 (F1 Split):** Connects the Central Unit (CU) and Distributed Unit (DU), separating higher network functions (PDCP and above) in the CU from lower layers (RLC and below) in the DU.\n",
    "7. **Split 7 (E1 Split):** Not a commonly referenced split in the context of RAN functional splits.\n",
    "8. **Split 8 (Option 2, CU-DU Split):** Another terminology for the F1 split between CU and DU.\n",
    "\n",
    "These splits allow for flexible and efficient RAN deployments by optimizing the distribution of network functions between the network's core elements."
   ]
  },
  {
   "cell_type": "markdown",
   "id": "8e7cb569-846e-4277-a900-bfb497091c47",
   "metadata": {},
   "source": [
    "${\\color{Salmon}3.}$ What are the overall UE registration steps to a 5G network?"
   ]
  },
  {
   "cell_type": "markdown",
   "id": "194934f0-c6ae-4d68-838d-ad83ce9f8578",
   "metadata": {},
   "source": [
    "The UE registration steps to a 5G network include:\n",
    "1. **Cell Discovery:** UE identifies and selects a 5G cell.\n",
    "2. **Initial Access:** UE performs initial access by synchronizing and sending a Random Access Channel (RACH) message.\n",
    "3. **RACH Procedure Completion:** Network acknowledges RACH, establishing a temporary radio link.\n",
    "4. **Registration Request:** UE sends a registration request with its credentials.\n",
    "5. **Authentication and Security Setup:** Network authenticates the UE, and a secure communication channel is established.\n",
    "6. **Registration Acceptance:** Network accepts the registration, confirming the UE is registered.\n",
    "7. **Session Establishment:** UE and network establish a PDU session for data transmission.\n",
    "8. **UE Configuration Update:** Network updates UE's configuration if necessary.\n",
    "9. **Ready for Service:** UE is ready to access network services."
   ]
  },
  {
   "cell_type": "code",
   "execution_count": null,
   "id": "fb7cceb6-5b42-4213-bd3d-ff6effbdf522",
   "metadata": {},
   "outputs": [],
   "source": []
  },
  {
   "cell_type": "raw",
   "id": "7cbf0dd6-685e-447d-aeb2-597cb1f8e4ce",
   "metadata": {},
   "source": [
    "```mermaid\n",
    "sequenceDiagram\n",
    "    participant UE\n",
    "    participant eNB\n",
    "    %% RACH Procedure\n",
    "    UE->>eNB: RACH Preamble (PRACH)\n",
    "    Note over eNB: Random Access Response (RAR)\n",
    "    eNB->>UE: RAR (DL-SCH, UM)\n",
    "    %% RRC Connection Procedure\n",
    "    UE->>eNB: RRC Connection Request (UL-SCH, UM)\n",
    "    eNB->>UE: RRC Connection Setup (DL-SCH, AM)\n",
    "    UE->>eNB: RRC Connection Setup Complete (UL-SCH, AM)\n",
    "    Note over UE, eNB: RRC Connection Established\n",
    "```"
   ]
  },
  {
   "cell_type": "markdown",
   "id": "abff8bf8-b961-4a42-8ab3-d30fe33358ab",
   "metadata": {},
   "source": [
    "<img src=images/PRACH-RRC.png width='50%' height='50%' > </img>"
   ]
  },
  {
   "cell_type": "markdown",
   "id": "613ee89d-a6ba-4452-9782-3a0bba501e1e",
   "metadata": {},
   "source": [
    "${\\color{Salmon}5.}$ How does the MAC layer dynamically schedule users over different resource blocks?"
   ]
  },
  {
   "cell_type": "markdown",
   "id": "359da3f4-87b4-4182-b72c-32dfde9538eb",
   "metadata": {},
   "source": [
    "The MAC layer dynamically schedules users over different Resource Blocks (RBs) in cellular networks by employing real-time algorithms that consider channel quality, user demand, and Quality of Service (QoS) requirements. It uses Channel Quality Information (CQI) reported by users to adaptively allocate RBs, ensuring efficient use of network resources. Scheduling decisions are made based on various algorithms like Round Robin, Proportional Fair, or Best CQI, aiming to balance fairness, throughput, and user experience. The MAC layer also dynamically adjusts the Modulation and Coding Scheme (MCS) according to the channel conditions and manages retransmissions through the Hybrid Automatic Repeat Request (HARQ) process. Overall, the dynamic scheduling process is crucial for optimizing network performance, accommodating user mobility, and meeting the diverse service requirements in modern cellular networks."
   ]
  },
  {
   "cell_type": "markdown",
   "id": "35857209-93f2-4cc8-87da-fcf2b8a06689",
   "metadata": {},
   "source": [
    "> Describe and provide an example."
   ]
  },
  {
   "cell_type": "markdown",
   "id": "5e145090-9ed1-49e8-9a1e-7f1445116cff",
   "metadata": {},
   "source": [
    "Dynamic scheduling in the MAC layer aims to efficiently allocate Resource Blocks (RBs) among multiple users based on current network conditions, user demands, and Quality of Service (QoS) requirements. Here's a simplified description followed by an example:\n",
    "\n",
    "### Description:\n",
    "- **Channel Quality Information (CQI)**: Users report the quality of their channel to the network, which includes signal strength and interference levels.\n",
    "- **QoS Requirements**: Different applications (e.g., video streaming vs. email) have different requirements for bandwidth, latency, and reliability.\n",
    "- **Scheduling Algorithms**: The MAC layer employs algorithms to decide how to allocate RBs among users. Common algorithms include:\n",
    "  - **Round Robin**: Distributes opportunities equally among users.\n",
    "  - **Proportional Fair**: Balances the need for fairness and efficiency by giving priority to users with better channel conditions but without completely ignoring others.\n",
    "  - **Best CQI**: Allocates resources to users with the best channel conditions to maximize network throughput.\n",
    "\n",
    "### Example:\n",
    "Imagine a scenario with three users (User A, User B, and User C) trying to communicate over a cellular network. User A is streaming video, User B is browsing the web, and User C is downloading a large file. The network uses the Proportional Fair scheduling algorithm for RB allocation.\n",
    "\n",
    "- **Step 1 (CQI Reporting)**: Each user reports their CQI. Let's assume User A has good signal strength, User B has average, and User C has excellent.\n",
    "  \n",
    "- **Step 2 (Assessing QoS Requirements)**: The MAC layer assesses the QoS requirements. Video streaming (User A) requires consistent bandwidth and low latency. Web browsing (User B) requires less bandwidth but benefits from lower latency. The file download (User C) is bandwidth-intensive but can tolerate higher latency.\n",
    "  \n",
    "- **Step 3 (Scheduling Decision)**: Based on the Proportional Fair algorithm, the MAC layer decides how to allocate RBs. Although User C has the best channel conditions, allocating all resources to User C would neglect the latency-sensitive applications of User A and B. Therefore, the MAC layer dynamically allocates RBs to balance between efficiently using the excellent channel of User C and satisfying the latency requirements of User A and B. For example, it might prioritize User A and B during periods of high demand for real-time data but shift more resources to User C when demand from A and B is lower, optimizing overall network performance and user satisfaction.\n",
    "\n",
    "This example illustrates how dynamic scheduling in the MAC layer works to balance diverse user needs and network conditions, ensuring an efficient and fair distribution of resources across the cellular network."
   ]
  },
  {
   "cell_type": "markdown",
   "id": "602a2130-c47e-4281-99c8-2a10d3088050",
   "metadata": {},
   "source": [
    "The following table has been extracted from UPF\n",
    "| TEID | @IPsrc | Action 1 | Action 2 | Action 3 |\n",
    "|-|-|-|-|-|\n",
    "| 98 | - | Remove GTP header and IP outerheader | Forward (Core) | -- |\n",
    "| -  | 12.1.1.222 | Add GTP header (TEID = 888, QFI=5) |  Add IP outerheader IPdst = 192.168.8.1 & IPsrc = 192.168.8.2 |  Forward (access) |\n",
    "| 775 | - | Remove GTP header and IP outerheader |  Forward (Core) | |\n",
    "| - | 12.1.0.1 | Add GTP header (TEID  = 888, QFI=5) | Add IP outerheader IPdst = 192.168.8.89 & IPsrc = 192.168.8.2 |  Forward (access) |"
   ]
  },
  {
   "cell_type": "markdown",
   "id": "342b32b7-157a-4773-bb08-da14b0aeaf09",
   "metadata": {},
   "source": [
    "The table extracted from the User Plane Function (UPF) outlines specific rules for processing packets based on their Tunnel Endpoint Identifier (TEID) or source IP address (@IPsrc). These rules dictate how incoming packets should be handled, including modifying packet headers and determining the packet's forwarding path. Here's a breakdown of the actions specified in the table:\n",
    "\n",
    "\n",
    "### Purpose of Actions:\n",
    "\n",
    "- **Removing GTP and IP Outer Headers**: This action is performed on packets arriving from the external networks (core or internet) destined for the UE. Removing these headers is necessary for delivering the packet to the UE in the correct format.\n",
    "\n",
    "- **Adding GTP and IP Outer Headers**: For packets going from the UE or internal network towards external networks, adding these headers is necessary for routing and delivering the packet through the 5G core network to its final destination.\n",
    "\n",
    "- **Forwarding \"Core\"/\"Access\"**: Dictates the direction of the packet's next hop - either towards the core network (for outgoing traffic or traffic to be processed further by core network functions) or towards the access network (for incoming traffic destined for the UE).\n",
    "\n",
    "These rules facilitate the UPF's role in managing user plane traffic, ensuring packets are correctly encapsulated or decapsulated and routed to their intended destinations within or outside the 5G network."
   ]
  },
  {
   "cell_type": "markdown",
   "id": "13fa1e3c-1c20-43c6-abaa-137f0858ab23",
   "metadata": {},
   "source": [
    "> Which entity helped the UPF to fill this table"
   ]
  },
  {
   "cell_type": "markdown",
   "id": "f4d37318-cc07-4516-927a-60367e994db2",
   "metadata": {},
   "source": [
    "The table that you're referring to, typically found in a User Plane Function (UPF) within a 5G network, is filled with information that allows the UPF to handle packets appropriately based on various parameters like Tunnel Endpoint Identifier (TEID) and source IP address. This table is crucial for the UPF to know how to process and forward packets, either by adding or removing GTP (GPRS Tunneling Protocol) headers, or by directing the packets to the right destination.\n",
    "\n",
    "The entity that helps the UPF to fill this table is the Session Management Function (SMF):\n",
    "\n",
    "- **SMF (Session Management Function)**: The SMF is responsible for session management within the 5G network. It handles the establishment, modification, and release of session contexts and interacts directly with the UPF to set up the forwarding and treatment rules for user plane data.\n",
    "\n",
    "When a PDU (Packet Data Unit) session is established, the SMF provides the UPF with session and traffic routing information, including:\n",
    "\n",
    "- The TEID for GTP tunnels.\n",
    "- The QoS and forwarding actions for each PDU session.\n",
    "- The IP address to be used for the outer IP header when encapsulating packets for the uplink, and the IP addresses or identifiers to be used for downlink traffic.\n",
    "- Any other necessary parameters for routing and forwarding, such as the destination IP address in the core network or the source IP address for traffic coming from the UE.\n",
    "\n",
    "These instructions from the SMF are encapsulated in PFCP (Packet Forwarding Control Protocol) messages, which the UPF then uses to populate its forwarding table. The SMF continues to update this information as needed throughout the life of the session, for instance, if there are changes in the network topology, if the UE moves, or if there are changes in the QoS requirements."
   ]
  },
  {
   "cell_type": "markdown",
   "id": "4ca16772-3550-4a3f-953a-aec734202c41",
   "metadata": {},
   "source": [
    "> Give an interpretation of each line."
   ]
  },
  {
   "cell_type": "markdown",
   "id": "8374c771-485c-4b0c-b9a4-43367cb255f4",
   "metadata": {},
   "source": [
    "### Entries and Actions Explained:\n",
    "\n",
    "1. **Entry 1 (TEID = 98)**:\n",
    "   - **Action 1**: Remove both the GTP (GPRS Tunneling Protocol) header and the IP outer header from the packet. This is typically done for packets coming from the core network towards the UPF, preparing them to be forwarded to the intended UE (User Equipment).\n",
    "   - **Action 2**: Forward the packet towards the core network (\"Core\").\n",
    "   - **Action 3**: No action specified (--).\n",
    "\n",
    "2. **Entry 2 (@IPsrc = 12.1.1.222)**:\n",
    "   - **Action 1**: Add a GTP header with a specified TEID of 888 and a QoS Flow Identifier (QFI) of 5. This action is for packets originating from IP address 12.1.1.222, preparing them for tunneling towards a specific destination within the 5G network.\n",
    "   - **Action 2**: Add an IP outer header with the destination IP address set to 192.168.8.1 and the source IP address to 192.168.8.2. This specifies the new encapsulation for routing within the network.\n",
    "   - **Action 3**: Forward the packet towards the access network (\"access\"), indicating that it's being sent towards the radio access network or the UE.\n",
    "\n",
    "3. **Entry 3 (TEID = 775)**:\n",
    "   - Similar to Entry 1, packets with TEID 775 have their GTP and IP outer headers removed and are then forwarded to the core network.\n",
    "\n",
    "4. **Entry 4 (@IPsrc = 12.1.0.1)**:\n",
    "   - Similar to Entry 2, for packets originating from IP address 12.1.0.1, a GTP header is added with TEID 888 and QFI=5. An IP outer header is also added with specific source and destination IP addresses, and then the packet is forwarded to the access network.\n"
   ]
  },
  {
   "cell_type": "markdown",
   "id": "c2d9c2fb-f80a-435e-87b9-daf68fc99d84",
   "metadata": {},
   "source": [
    "# References"
   ]
  },
  {
   "cell_type": "markdown",
   "id": "4d7bc5e9-05bb-47fa-85b6-30005e741b6a",
   "metadata": {},
   "source": [
    "In mobile telecommunications, the distinction between the Radio Access Network (RAN) and the Core Network (CN) is fundamental, as they serve different but complementary functions within the network architecture.\n",
    "\n",
    "**Radio Access Network (RAN):**\n",
    "\n",
    "- The RAN is responsible for managing the radio communications between mobile devices and the network. It includes the base stations (such as gNodeBs in 5G or eNodeBs in 4G) and the radio access technology that connects mobile devices to the core network.\n",
    "- Its main functions include radio resource management, mobility management as users move geographically, and the initial encryption of data.\n",
    "- The RAN is the part of the network that deals with everything related to the radio frequencies, antennas, and tower installations, essentially serving as the entry point for users into the network.\n",
    "\n",
    "**Core Network (CN):**\n",
    "\n",
    "- The Core Network manages the overall operation of the mobile telecommunications network. It is responsible for high-level functions such as internet connectivity, voice call management, data routing, user authentication, charging and billing, and services like SMS.\n",
    "- The CN includes various network elements like the Serving Gateway, Packet Data Network Gateway (in 4G LTE networks), or the Unified Data Management, Access and Mobility Management Function, and Session Management Function (in 5G networks).\n",
    "- Its role is to ensure that data and voice are correctly routed to and from different parts of the network and external networks, manage user sessions, and maintain network security and quality of service.\n",
    "\n",
    "**Key Differences:**\n",
    "\n",
    "- The RAN directly interacts with user devices through radio waves, handling all radio-related processes. In contrast, the CN provides the backbone infrastructure for managing network services, user sessions, and data routing to external networks (like the internet or other telecommunications networks).\n",
    "- The RAN is geographically distributed, with equipment placed across various locations to provide coverage. The CN's components can be centralized in data centers and are not necessarily spread over wide areas.\n",
    "- Upgrades or changes in the RAN often involve physical changes or adjustments to equipment in the field (like antennas or base stations), whereas updates to the CN can sometimes be software-based, affecting how data is processed or routed through the network.\n",
    "\n",
    "The RAN and CN must work seamlessly together to deliver mobile services, with the RAN handling the access part of the equation and the CN managing the network's core services and connectivity beyond the RAN."
   ]
  },
  {
   "cell_type": "code",
   "execution_count": null,
   "id": "40c2e889-5003-42ec-9d29-81c4dcb5678e",
   "metadata": {},
   "outputs": [],
   "source": []
  }
 ],
 "metadata": {
  "kernelspec": {
   "display_name": "Julia 1.9.3",
   "language": "julia",
   "name": "julia-1.9"
  },
  "language_info": {
   "file_extension": ".jl",
   "mimetype": "application/julia",
   "name": "julia",
   "version": "1.10.0"
  }
 },
 "nbformat": 4,
 "nbformat_minor": 5
}
